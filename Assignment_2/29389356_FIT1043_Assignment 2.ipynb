{
 "cells": [
  {
   "cell_type": "markdown",
   "metadata": {},
   "source": [
    "### Assignment 2 FIT1043\n",
    "- Student Name: Anisha Shrestha\n",
    "- Student ID: 29389356\n",
    "- Tutorial Code:01-p1\n",
    "- Tutor: Heshan and Vijaya"
   ]
  },
  {
   "cell_type": "code",
   "execution_count": 272,
   "metadata": {},
   "outputs": [],
   "source": [
    "#Import libraries\n",
    "import pandas as pd\n",
    "import matplotlib\n",
    "import matplotlib.pyplot as plt\n",
    "import numpy as np"
   ]
  },
  {
   "cell_type": "code",
   "execution_count": 273,
   "metadata": {},
   "outputs": [
    {
     "data": {
      "text/html": [
       "<div>\n",
       "<style scoped>\n",
       "    .dataframe tbody tr th:only-of-type {\n",
       "        vertical-align: middle;\n",
       "    }\n",
       "\n",
       "    .dataframe tbody tr th {\n",
       "        vertical-align: top;\n",
       "    }\n",
       "\n",
       "    .dataframe thead th {\n",
       "        text-align: right;\n",
       "    }\n",
       "</style>\n",
       "<table border=\"1\" class=\"dataframe\">\n",
       "  <thead>\n",
       "    <tr style=\"text-align: right;\">\n",
       "      <th></th>\n",
       "      <th>Month</th>\n",
       "      <th>AustralianPort</th>\n",
       "      <th>ForeignPort</th>\n",
       "      <th>Country</th>\n",
       "      <th>Passengers_In</th>\n",
       "      <th>Freight_In_(tonnes)</th>\n",
       "      <th>Mail_In_(tonnes)</th>\n",
       "      <th>Passengers_Out</th>\n",
       "      <th>Freight_Out_(tonnes)</th>\n",
       "      <th>Mail_Out_(tonnes)</th>\n",
       "      <th>Passengers_Total</th>\n",
       "      <th>Freight_Total_(tonnes)</th>\n",
       "      <th>Mail_Total_(tonnes)</th>\n",
       "      <th>Year</th>\n",
       "      <th>Month_num</th>\n",
       "    </tr>\n",
       "  </thead>\n",
       "  <tbody>\n",
       "    <tr>\n",
       "      <th>0</th>\n",
       "      <td>31048</td>\n",
       "      <td>Adelaide</td>\n",
       "      <td>Auckland</td>\n",
       "      <td>New Zealand</td>\n",
       "      <td>1513</td>\n",
       "      <td>42.167</td>\n",
       "      <td>0.311</td>\n",
       "      <td>985</td>\n",
       "      <td>18.704</td>\n",
       "      <td>0.924</td>\n",
       "      <td>2498</td>\n",
       "      <td>60.871</td>\n",
       "      <td>1.235</td>\n",
       "      <td>1985</td>\n",
       "      <td>1</td>\n",
       "    </tr>\n",
       "    <tr>\n",
       "      <th>1</th>\n",
       "      <td>31048</td>\n",
       "      <td>Adelaide</td>\n",
       "      <td>Bahrain</td>\n",
       "      <td>Bahrain</td>\n",
       "      <td>12</td>\n",
       "      <td>0.000</td>\n",
       "      <td>0.000</td>\n",
       "      <td>5</td>\n",
       "      <td>0.033</td>\n",
       "      <td>0.000</td>\n",
       "      <td>17</td>\n",
       "      <td>0.033</td>\n",
       "      <td>0.000</td>\n",
       "      <td>1985</td>\n",
       "      <td>1</td>\n",
       "    </tr>\n",
       "    <tr>\n",
       "      <th>2</th>\n",
       "      <td>31048</td>\n",
       "      <td>Adelaide</td>\n",
       "      <td>Bombay</td>\n",
       "      <td>India</td>\n",
       "      <td>7</td>\n",
       "      <td>0.000</td>\n",
       "      <td>0.000</td>\n",
       "      <td>5</td>\n",
       "      <td>0.000</td>\n",
       "      <td>0.000</td>\n",
       "      <td>12</td>\n",
       "      <td>0.000</td>\n",
       "      <td>0.000</td>\n",
       "      <td>1985</td>\n",
       "      <td>1</td>\n",
       "    </tr>\n",
       "    <tr>\n",
       "      <th>3</th>\n",
       "      <td>31048</td>\n",
       "      <td>Adelaide</td>\n",
       "      <td>Frankfurt</td>\n",
       "      <td>Germany</td>\n",
       "      <td>115</td>\n",
       "      <td>0.009</td>\n",
       "      <td>0.000</td>\n",
       "      <td>171</td>\n",
       "      <td>0.000</td>\n",
       "      <td>0.248</td>\n",
       "      <td>286</td>\n",
       "      <td>0.009</td>\n",
       "      <td>0.248</td>\n",
       "      <td>1985</td>\n",
       "      <td>1</td>\n",
       "    </tr>\n",
       "    <tr>\n",
       "      <th>4</th>\n",
       "      <td>31048</td>\n",
       "      <td>Adelaide</td>\n",
       "      <td>London</td>\n",
       "      <td>UK</td>\n",
       "      <td>1567</td>\n",
       "      <td>2.800</td>\n",
       "      <td>0.000</td>\n",
       "      <td>1472</td>\n",
       "      <td>10.618</td>\n",
       "      <td>2.487</td>\n",
       "      <td>3039</td>\n",
       "      <td>13.418</td>\n",
       "      <td>2.487</td>\n",
       "      <td>1985</td>\n",
       "      <td>1</td>\n",
       "    </tr>\n",
       "  </tbody>\n",
       "</table>\n",
       "</div>"
      ],
      "text/plain": [
       "   Month AustralianPort ForeignPort      Country  Passengers_In  \\\n",
       "0  31048       Adelaide    Auckland  New Zealand           1513   \n",
       "1  31048       Adelaide     Bahrain      Bahrain             12   \n",
       "2  31048       Adelaide      Bombay        India              7   \n",
       "3  31048       Adelaide   Frankfurt      Germany            115   \n",
       "4  31048       Adelaide      London           UK           1567   \n",
       "\n",
       "   Freight_In_(tonnes)  Mail_In_(tonnes)  Passengers_Out  \\\n",
       "0               42.167             0.311             985   \n",
       "1                0.000             0.000               5   \n",
       "2                0.000             0.000               5   \n",
       "3                0.009             0.000             171   \n",
       "4                2.800             0.000            1472   \n",
       "\n",
       "   Freight_Out_(tonnes)  Mail_Out_(tonnes)  Passengers_Total  \\\n",
       "0                18.704              0.924              2498   \n",
       "1                 0.033              0.000                17   \n",
       "2                 0.000              0.000                12   \n",
       "3                 0.000              0.248               286   \n",
       "4                10.618              2.487              3039   \n",
       "\n",
       "   Freight_Total_(tonnes)  Mail_Total_(tonnes)  Year  Month_num  \n",
       "0                  60.871                1.235  1985          1  \n",
       "1                   0.033                0.000  1985          1  \n",
       "2                   0.000                0.000  1985          1  \n",
       "3                   0.009                0.248  1985          1  \n",
       "4                  13.418                2.487  1985          1  "
      ]
     },
     "execution_count": 273,
     "metadata": {},
     "output_type": "execute_result"
    }
   ],
   "source": [
    "#importing dataset \n",
    "city_p = pd.read_csv('CityPairs.csv')\n",
    "city_p.head()"
   ]
  },
  {
   "cell_type": "code",
   "execution_count": 274,
   "metadata": {},
   "outputs": [
    {
     "data": {
      "text/html": [
       "<div>\n",
       "<style scoped>\n",
       "    .dataframe tbody tr th:only-of-type {\n",
       "        vertical-align: middle;\n",
       "    }\n",
       "\n",
       "    .dataframe tbody tr th {\n",
       "        vertical-align: top;\n",
       "    }\n",
       "\n",
       "    .dataframe thead th {\n",
       "        text-align: right;\n",
       "    }\n",
       "</style>\n",
       "<table border=\"1\" class=\"dataframe\">\n",
       "  <thead>\n",
       "    <tr style=\"text-align: right;\">\n",
       "      <th></th>\n",
       "      <th>Month</th>\n",
       "      <th>Passengers_In</th>\n",
       "      <th>Freight_In_(tonnes)</th>\n",
       "      <th>Mail_In_(tonnes)</th>\n",
       "      <th>Passengers_Out</th>\n",
       "      <th>Freight_Out_(tonnes)</th>\n",
       "      <th>Mail_Out_(tonnes)</th>\n",
       "      <th>Passengers_Total</th>\n",
       "      <th>Freight_Total_(tonnes)</th>\n",
       "      <th>Mail_Total_(tonnes)</th>\n",
       "      <th>Year</th>\n",
       "      <th>Month_num</th>\n",
       "    </tr>\n",
       "  </thead>\n",
       "  <tbody>\n",
       "    <tr>\n",
       "      <th>count</th>\n",
       "      <td>72972.000000</td>\n",
       "      <td>72972.000000</td>\n",
       "      <td>72972.00000</td>\n",
       "      <td>72972.000000</td>\n",
       "      <td>72972.000000</td>\n",
       "      <td>72972.000000</td>\n",
       "      <td>72972.000000</td>\n",
       "      <td>72972.000000</td>\n",
       "      <td>72972.000000</td>\n",
       "      <td>72972.000000</td>\n",
       "      <td>72972.000000</td>\n",
       "      <td>72972.000000</td>\n",
       "    </tr>\n",
       "    <tr>\n",
       "      <th>mean</th>\n",
       "      <td>36417.555405</td>\n",
       "      <td>3780.382791</td>\n",
       "      <td>139.45810</td>\n",
       "      <td>6.938752</td>\n",
       "      <td>3725.242847</td>\n",
       "      <td>124.145430</td>\n",
       "      <td>4.265560</td>\n",
       "      <td>7505.625637</td>\n",
       "      <td>263.603530</td>\n",
       "      <td>11.204312</td>\n",
       "      <td>1999.247054</td>\n",
       "      <td>6.483172</td>\n",
       "    </tr>\n",
       "    <tr>\n",
       "      <th>std</th>\n",
       "      <td>3106.561578</td>\n",
       "      <td>7362.506500</td>\n",
       "      <td>346.96702</td>\n",
       "      <td>23.385646</td>\n",
       "      <td>7263.097518</td>\n",
       "      <td>324.311081</td>\n",
       "      <td>13.770793</td>\n",
       "      <td>14556.616468</td>\n",
       "      <td>634.173976</td>\n",
       "      <td>33.716790</td>\n",
       "      <td>8.507930</td>\n",
       "      <td>3.464992</td>\n",
       "    </tr>\n",
       "    <tr>\n",
       "      <th>min</th>\n",
       "      <td>31048.000000</td>\n",
       "      <td>0.000000</td>\n",
       "      <td>0.00000</td>\n",
       "      <td>0.000000</td>\n",
       "      <td>0.000000</td>\n",
       "      <td>0.000000</td>\n",
       "      <td>0.000000</td>\n",
       "      <td>0.000000</td>\n",
       "      <td>0.000000</td>\n",
       "      <td>0.000000</td>\n",
       "      <td>1985.000000</td>\n",
       "      <td>1.000000</td>\n",
       "    </tr>\n",
       "    <tr>\n",
       "      <th>25%</th>\n",
       "      <td>33939.000000</td>\n",
       "      <td>89.000000</td>\n",
       "      <td>0.00000</td>\n",
       "      <td>0.000000</td>\n",
       "      <td>92.000000</td>\n",
       "      <td>0.000000</td>\n",
       "      <td>0.000000</td>\n",
       "      <td>201.000000</td>\n",
       "      <td>0.258000</td>\n",
       "      <td>0.000000</td>\n",
       "      <td>1992.000000</td>\n",
       "      <td>3.000000</td>\n",
       "    </tr>\n",
       "    <tr>\n",
       "      <th>50%</th>\n",
       "      <td>36220.000000</td>\n",
       "      <td>979.000000</td>\n",
       "      <td>9.09750</td>\n",
       "      <td>0.000000</td>\n",
       "      <td>957.000000</td>\n",
       "      <td>9.961500</td>\n",
       "      <td>0.000000</td>\n",
       "      <td>1961.000000</td>\n",
       "      <td>28.682000</td>\n",
       "      <td>0.112000</td>\n",
       "      <td>1999.000000</td>\n",
       "      <td>6.000000</td>\n",
       "    </tr>\n",
       "    <tr>\n",
       "      <th>75%</th>\n",
       "      <td>38838.000000</td>\n",
       "      <td>3898.000000</td>\n",
       "      <td>102.37600</td>\n",
       "      <td>1.321250</td>\n",
       "      <td>3759.000000</td>\n",
       "      <td>90.948500</td>\n",
       "      <td>1.451250</td>\n",
       "      <td>7684.250000</td>\n",
       "      <td>211.404250</td>\n",
       "      <td>4.065250</td>\n",
       "      <td>2006.000000</td>\n",
       "      <td>10.000000</td>\n",
       "    </tr>\n",
       "    <tr>\n",
       "      <th>max</th>\n",
       "      <td>42491.000000</td>\n",
       "      <td>83898.000000</td>\n",
       "      <td>4052.41000</td>\n",
       "      <td>393.705000</td>\n",
       "      <td>83168.000000</td>\n",
       "      <td>4996.582000</td>\n",
       "      <td>382.229000</td>\n",
       "      <td>162036.000000</td>\n",
       "      <td>7198.998000</td>\n",
       "      <td>566.993000</td>\n",
       "      <td>2016.000000</td>\n",
       "      <td>12.000000</td>\n",
       "    </tr>\n",
       "  </tbody>\n",
       "</table>\n",
       "</div>"
      ],
      "text/plain": [
       "              Month  Passengers_In  Freight_In_(tonnes)  Mail_In_(tonnes)  \\\n",
       "count  72972.000000   72972.000000          72972.00000      72972.000000   \n",
       "mean   36417.555405    3780.382791            139.45810          6.938752   \n",
       "std     3106.561578    7362.506500            346.96702         23.385646   \n",
       "min    31048.000000       0.000000              0.00000          0.000000   \n",
       "25%    33939.000000      89.000000              0.00000          0.000000   \n",
       "50%    36220.000000     979.000000              9.09750          0.000000   \n",
       "75%    38838.000000    3898.000000            102.37600          1.321250   \n",
       "max    42491.000000   83898.000000           4052.41000        393.705000   \n",
       "\n",
       "       Passengers_Out  Freight_Out_(tonnes)  Mail_Out_(tonnes)  \\\n",
       "count    72972.000000          72972.000000       72972.000000   \n",
       "mean      3725.242847            124.145430           4.265560   \n",
       "std       7263.097518            324.311081          13.770793   \n",
       "min          0.000000              0.000000           0.000000   \n",
       "25%         92.000000              0.000000           0.000000   \n",
       "50%        957.000000              9.961500           0.000000   \n",
       "75%       3759.000000             90.948500           1.451250   \n",
       "max      83168.000000           4996.582000         382.229000   \n",
       "\n",
       "       Passengers_Total  Freight_Total_(tonnes)  Mail_Total_(tonnes)  \\\n",
       "count      72972.000000            72972.000000         72972.000000   \n",
       "mean        7505.625637              263.603530            11.204312   \n",
       "std        14556.616468              634.173976            33.716790   \n",
       "min            0.000000                0.000000             0.000000   \n",
       "25%          201.000000                0.258000             0.000000   \n",
       "50%         1961.000000               28.682000             0.112000   \n",
       "75%         7684.250000              211.404250             4.065250   \n",
       "max       162036.000000             7198.998000           566.993000   \n",
       "\n",
       "               Year     Month_num  \n",
       "count  72972.000000  72972.000000  \n",
       "mean    1999.247054      6.483172  \n",
       "std        8.507930      3.464992  \n",
       "min     1985.000000      1.000000  \n",
       "25%     1992.000000      3.000000  \n",
       "50%     1999.000000      6.000000  \n",
       "75%     2006.000000     10.000000  \n",
       "max     2016.000000     12.000000  "
      ]
     },
     "execution_count": 274,
     "metadata": {},
     "output_type": "execute_result"
    }
   ],
   "source": [
    "city_p.describe()"
   ]
  },
  {
   "cell_type": "markdown",
   "metadata": {},
   "source": [
    "# Part A - Analysing Mail Flow in Australian Capital Cities\n",
    "\n",
    "Create a bar chart which shows the total Mail_In and total Mail_Out for each of the ports"
   ]
  },
  {
   "cell_type": "code",
   "execution_count": 275,
   "metadata": {},
   "outputs": [
    {
     "data": {
      "text/plain": [
       "array(['Adelaide', 'Brisbane', 'Cairns', 'Darwin', 'Hobart', 'Melbourne',\n",
       "       'Norfolk Island', 'Perth', 'Port Hedland', 'Sydney', 'Townsville',\n",
       "       'Christmas Island', 'Broome', 'Gold Coast/Coolangatta',\n",
       "       'Newcastle', 'Canberra', 'Gold Coast', 'Sunshine Coast'],\n",
       "      dtype=object)"
      ]
     },
     "execution_count": 275,
     "metadata": {},
     "output_type": "execute_result"
    }
   ],
   "source": [
    "city_p.AustralianPort.unique()"
   ]
  },
  {
   "cell_type": "code",
   "execution_count": 276,
   "metadata": {},
   "outputs": [
    {
     "data": {
      "text/plain": [
       "array(['Adelaide', 'Brisbane', 'Darwin', 'Hobart', 'Melbourne', 'Perth',\n",
       "       'Sydney'], dtype=object)"
      ]
     },
     "execution_count": 276,
     "metadata": {},
     "output_type": "execute_result"
    }
   ],
   "source": [
    "#creating a subset where Austalian  ports are Adelaide, Brisbane, Darwin, Hobart, Melbourne, Perth, and Sydney\n",
    "sub_ACP = city_p[(city_p.AustralianPort =='Adelaide') |\n",
    "                 (city_p.AustralianPort =='Brisbane') |(city_p.AustralianPort=='Darwin')|\n",
    "                (city_p.AustralianPort=='Hobart') |\n",
    "                 (city_p.AustralianPort=='Melbourne') \n",
    "                 |(city_p.AustralianPort=='Perth')|\n",
    "                    (city_p.AustralianPort=='Sydney')]\n",
    "sub_ACP.AustralianPort.unique()"
   ]
  },
  {
   "cell_type": "code",
   "execution_count": 277,
   "metadata": {
    "scrolled": true
   },
   "outputs": [
    {
     "data": {
      "text/html": [
       "<div>\n",
       "<style scoped>\n",
       "    .dataframe tbody tr th:only-of-type {\n",
       "        vertical-align: middle;\n",
       "    }\n",
       "\n",
       "    .dataframe tbody tr th {\n",
       "        vertical-align: top;\n",
       "    }\n",
       "\n",
       "    .dataframe thead th {\n",
       "        text-align: right;\n",
       "    }\n",
       "</style>\n",
       "<table border=\"1\" class=\"dataframe\">\n",
       "  <thead>\n",
       "    <tr style=\"text-align: right;\">\n",
       "      <th></th>\n",
       "      <th>AustralianPort</th>\n",
       "      <th>Mail_In_(tonnes)</th>\n",
       "      <th>Mail_Out_(tonnes)</th>\n",
       "    </tr>\n",
       "  </thead>\n",
       "  <tbody>\n",
       "    <tr>\n",
       "      <th>0</th>\n",
       "      <td>Adelaide</td>\n",
       "      <td>3151.79</td>\n",
       "      <td>3577.53</td>\n",
       "    </tr>\n",
       "    <tr>\n",
       "      <th>1</th>\n",
       "      <td>Brisbane</td>\n",
       "      <td>38971.90</td>\n",
       "      <td>37698.23</td>\n",
       "    </tr>\n",
       "    <tr>\n",
       "      <th>2</th>\n",
       "      <td>Darwin</td>\n",
       "      <td>401.67</td>\n",
       "      <td>589.19</td>\n",
       "    </tr>\n",
       "    <tr>\n",
       "      <th>3</th>\n",
       "      <td>Hobart</td>\n",
       "      <td>5.68</td>\n",
       "      <td>0.29</td>\n",
       "    </tr>\n",
       "    <tr>\n",
       "      <th>4</th>\n",
       "      <td>Melbourne</td>\n",
       "      <td>128609.33</td>\n",
       "      <td>70646.59</td>\n",
       "    </tr>\n",
       "    <tr>\n",
       "      <th>5</th>\n",
       "      <td>Perth</td>\n",
       "      <td>20788.44</td>\n",
       "      <td>17177.82</td>\n",
       "    </tr>\n",
       "    <tr>\n",
       "      <th>6</th>\n",
       "      <td>Sydney</td>\n",
       "      <td>312534.16</td>\n",
       "      <td>177177.97</td>\n",
       "    </tr>\n",
       "  </tbody>\n",
       "</table>\n",
       "</div>"
      ],
      "text/plain": [
       "  AustralianPort  Mail_In_(tonnes)  Mail_Out_(tonnes)\n",
       "0       Adelaide           3151.79            3577.53\n",
       "1       Brisbane          38971.90           37698.23\n",
       "2         Darwin            401.67             589.19\n",
       "3         Hobart              5.68               0.29\n",
       "4      Melbourne         128609.33           70646.59\n",
       "5          Perth          20788.44           17177.82\n",
       "6         Sydney         312534.16          177177.97"
      ]
     },
     "execution_count": 277,
     "metadata": {},
     "output_type": "execute_result"
    }
   ],
   "source": [
    "ACP_mail_sum=sub_ACP.groupby('AustralianPort').agg({'Mail_In_(tonnes)':'sum','Mail_Out_(tonnes)':'sum'})\n",
    "#min date for each country\n",
    "\n",
    "# #flattening the groupby output\n",
    "ACP_mail_sum = ACP_mail_sum.reset_index()\n",
    "\n",
    "ACP_mail_sum=ACP_mail_sum.round(2)\n",
    "ACP_mail_sum"
   ]
  },
  {
   "cell_type": "markdown",
   "metadata": {},
   "source": [
    "https://matplotlib.org/3.1.1/gallery/lines_bars_and_markers/barchart.html"
   ]
  },
  {
   "cell_type": "code",
   "execution_count": 278,
   "metadata": {},
   "outputs": [
    {
     "data": {
      "image/png": "[encoded data removed]",
      "text/plain": [
       "<Figure size 432x288 with 1 Axes>"
      ]
     },
     "metadata": {
      "needs_background": "light"
     },
     "output_type": "display_data"
    }
   ],
   "source": [
    "x_axis = np.arange(len(ACP_mail_sum.AustralianPort))  \n",
    "\n",
    "width = 0.3\n",
    "\n",
    "fig, ax = plt.subplots()\n",
    "rect1 = ax.bar((x_axis - width/2) , \n",
    "               ACP_mail_sum['Mail_In_(tonnes)'],\n",
    "               width, label='Total Mail in')\n",
    "rect2 = ax.bar((x_axis + width/2),  \n",
    "               ACP_mail_sum['Mail_Out_(tonnes)'],\n",
    "               width,label='Total Mail-out')\n",
    "\n",
    "# Adding labels\n",
    "ax.set_ylabel('Mail (tonnes)')\n",
    "ax.set_xlabel('Australian Capital Ports')\n",
    "ax.set_title('Mail Traffic Flow of Australian Capital Ports')\n",
    "ax.set_xticks(x_axis)\n",
    "ax.set_xticklabels(ACP_mail_sum.AustralianPort)\n",
    "ax.legend()\n",
    "\n",
    "fig.tight_layout()\n",
    "\n",
    "plt.show()\n"
   ]
  },
  {
   "cell_type": "markdown",
   "metadata": {},
   "source": [
    "#### 1.1. Which city has the largest amount of mail flowing in?\n",
    "\n",
    "The city with the largest amount of mail flowing in is Sydney. "
   ]
  },
  {
   "cell_type": "markdown",
   "metadata": {},
   "source": [
    "#### 1.2. Can you properly compare the values for all cities by looking at the plot? Why?\n",
    " \n",
    " No, it's difficult to compare values of Darwin and Hobart. Since the total mail-in and out of extreamly small compared to the rest of the ports it is not visible in the chosen y-axis scale. Therefore, it's imposible to compare whether the total number of mail -in is greater or mail-out for Hobart and if the total mail-in for Darwin is greater than the total mail-in of Hobart, vise versa.   "
   ]
  },
  {
   "cell_type": "markdown",
   "metadata": {},
   "source": [
    "#### 1.3. Why do you think the mail traffic amount is significantly higher for some of the ports?\n",
    "\n",
    "https://blog.id.com.au/2016/population/population-trends/latest-population-figures-top-50-largest-cities-and-towns-in-australia/\n",
    "https://www.profitableventure.com/cities-australia-start-business/\n",
    "\n",
    "The mail traffic amount are significantly higher for some of the ports, because of the higher population in those Australian capital ports. Since Sydney and Melbourne have higher population than the other cities shown in the graph, its likely that there are higher rates of mail exchange happening in those states. Sydney and Melbourne also have higher number of immigrants and international students studying in these cities which can be another reason for the high mail traffic in thoses Capitals due to them exchanging mails to their home countries.  Moreover Sydeny is known to be leading city in Australia as as fintech hub comprising of largest economic sectors of Australia followed by Melbourne, therefore being an commercial hub the mail traffic amount must be significantly higher in those cities. "
   ]
  },
  {
   "cell_type": "markdown",
   "metadata": {},
   "source": [
    "2. Create a line chart to show the trend of total mail traffic to each of the following ports against year: Perth and Brisbane."
   ]
  },
  {
   "cell_type": "code",
   "execution_count": 279,
   "metadata": {},
   "outputs": [
    {
     "data": {
      "text/html": [
       "<div>\n",
       "<style scoped>\n",
       "    .dataframe tbody tr th:only-of-type {\n",
       "        vertical-align: middle;\n",
       "    }\n",
       "\n",
       "    .dataframe tbody tr th {\n",
       "        vertical-align: top;\n",
       "    }\n",
       "\n",
       "    .dataframe thead th {\n",
       "        text-align: right;\n",
       "    }\n",
       "</style>\n",
       "<table border=\"1\" class=\"dataframe\">\n",
       "  <thead>\n",
       "    <tr style=\"text-align: right;\">\n",
       "      <th></th>\n",
       "      <th>Year</th>\n",
       "      <th>Mail_Total_(tonnes)</th>\n",
       "    </tr>\n",
       "  </thead>\n",
       "  <tbody>\n",
       "    <tr>\n",
       "      <th>0</th>\n",
       "      <td>1985</td>\n",
       "      <td>171.46</td>\n",
       "    </tr>\n",
       "    <tr>\n",
       "      <th>1</th>\n",
       "      <td>1986</td>\n",
       "      <td>224.05</td>\n",
       "    </tr>\n",
       "    <tr>\n",
       "      <th>2</th>\n",
       "      <td>1987</td>\n",
       "      <td>277.87</td>\n",
       "    </tr>\n",
       "    <tr>\n",
       "      <th>3</th>\n",
       "      <td>1988</td>\n",
       "      <td>545.53</td>\n",
       "    </tr>\n",
       "    <tr>\n",
       "      <th>4</th>\n",
       "      <td>1989</td>\n",
       "      <td>790.57</td>\n",
       "    </tr>\n",
       "  </tbody>\n",
       "</table>\n",
       "</div>"
      ],
      "text/plain": [
       "   Year  Mail_Total_(tonnes)\n",
       "0  1985               171.46\n",
       "1  1986               224.05\n",
       "2  1987               277.87\n",
       "3  1988               545.53\n",
       "4  1989               790.57"
      ]
     },
     "execution_count": 279,
     "metadata": {},
     "output_type": "execute_result"
    }
   ],
   "source": [
    "perth = city_p[city_p.AustralianPort=='Perth']\n",
    "perth_mail_t = perth.groupby('Year').agg({'Mail_Total_(tonnes)':'sum'})\n",
    "\n",
    "#flattening the groupby output\n",
    "perth_mail_t = perth_mail_t.reset_index()\n",
    "perth_mail_t=perth_mail_t.round(2)\n",
    "perth_mail_t.head()\n"
   ]
  },
  {
   "cell_type": "code",
   "execution_count": 280,
   "metadata": {},
   "outputs": [
    {
     "data": {
      "text/html": [
       "<div>\n",
       "<style scoped>\n",
       "    .dataframe tbody tr th:only-of-type {\n",
       "        vertical-align: middle;\n",
       "    }\n",
       "\n",
       "    .dataframe tbody tr th {\n",
       "        vertical-align: top;\n",
       "    }\n",
       "\n",
       "    .dataframe thead th {\n",
       "        text-align: right;\n",
       "    }\n",
       "</style>\n",
       "<table border=\"1\" class=\"dataframe\">\n",
       "  <thead>\n",
       "    <tr style=\"text-align: right;\">\n",
       "      <th></th>\n",
       "      <th>Year</th>\n",
       "      <th>Mail_Total_(tonnes)</th>\n",
       "    </tr>\n",
       "  </thead>\n",
       "  <tbody>\n",
       "    <tr>\n",
       "      <th>0</th>\n",
       "      <td>1985</td>\n",
       "      <td>232.59</td>\n",
       "    </tr>\n",
       "    <tr>\n",
       "      <th>1</th>\n",
       "      <td>1986</td>\n",
       "      <td>303.25</td>\n",
       "    </tr>\n",
       "    <tr>\n",
       "      <th>2</th>\n",
       "      <td>1987</td>\n",
       "      <td>402.03</td>\n",
       "    </tr>\n",
       "    <tr>\n",
       "      <th>3</th>\n",
       "      <td>1988</td>\n",
       "      <td>756.03</td>\n",
       "    </tr>\n",
       "    <tr>\n",
       "      <th>4</th>\n",
       "      <td>1989</td>\n",
       "      <td>1052.27</td>\n",
       "    </tr>\n",
       "  </tbody>\n",
       "</table>\n",
       "</div>"
      ],
      "text/plain": [
       "   Year  Mail_Total_(tonnes)\n",
       "0  1985               232.59\n",
       "1  1986               303.25\n",
       "2  1987               402.03\n",
       "3  1988               756.03\n",
       "4  1989              1052.27"
      ]
     },
     "execution_count": 280,
     "metadata": {},
     "output_type": "execute_result"
    }
   ],
   "source": [
    "brisbane = city_p[city_p.AustralianPort=='Brisbane']\n",
    "brisbane_mail_t = brisbane.groupby('Year').agg({'Mail_Total_(tonnes)':'sum'})\n",
    "\n",
    "#flattening the groupby output\n",
    "brisbane_mail_t = brisbane_mail_t.reset_index()\n",
    "brisbane_mail_t=brisbane_mail_t.round(2)\n",
    "brisbane_mail_t.head()"
   ]
  },
  {
   "cell_type": "code",
   "execution_count": 281,
   "metadata": {},
   "outputs": [
    {
     "data": {
      "image/png": "[encoded data removed]",
      "text/plain": [
       "<Figure size 432x288 with 1 Axes>"
      ]
     },
     "metadata": {
      "needs_background": "light"
     },
     "output_type": "display_data"
    }
   ],
   "source": [
    "plt.plot(perth_mail_t.Year,\n",
    "         perth_mail_t['Mail_Total_(tonnes)'],\n",
    "         label='Perth')\n",
    "plt.plot(brisbane_mail_t.Year,\n",
    "         brisbane_mail_t['Mail_Total_(tonnes)'], \n",
    "         label='Brisbane')\n",
    "plt.legend(loc=\"upper left\")\n",
    "plt.title('Total mail Traffic from 1985-2016')\n",
    "plt.xlabel('Year')\n",
    "plt.ylabel('Total mail traffic')\n",
    "plt.show() "
   ]
  },
  {
   "cell_type": "markdown",
   "metadata": {},
   "source": [
    "####  2.1. How was the mail package traffic to each of the Brisbane and Perth ports in the mid-80s?\n",
    "\n",
    "The mail package traffic in  Brisbane and Perth ports in the mid-80s were less than 500 tonnes. From the graph we can depict that Brisbane had a higher total mail traffic than Perth during that time period.  The total mail traffic were steadily increasing for both ports at similar rate in the mid-80s.\n"
   ]
  },
  {
   "cell_type": "markdown",
   "metadata": {},
   "source": [
    "#### 2.2. How was the total mail traffic to Brisbane and Perth in 2016? (You should analyse the data and see if 2016 has anything different from the previous years or not. Make sure to use the output of the function “describe()” of Pandas dataframe to answer this question).\n",
    "\n",
    "From the graph we see that the total mail traffic in 2016 for Brisbane and Perth drastically dropped. In 2015 the total mail traffic for Brisbane was greater than 3000 tonnes while in 2016 it dropped at an accelerating rate to around 1000 tonnes. Similarly, for Perth in 2016, the total mail traffic dropped from around 1000 tonnes in 2015 to approximately what it was during 1980s which is less than 500 tonnes.\n",
    "\n",
    "After inspecting the describe() function for the year 2016 against other years for both Brisbane and Perth, By analysing the Month_num column in the dataset, I found that there are only records till the 5th month for 2016 while for all other years the data is present for all 12 months. Since the data of the rest of the months are not presented in the data frame the trend of total mail traffic shown in the graph for the year 2016 is not accurate/complete. Thus, due to the lack of data for 2016 the graph displays the drastic decrease in the total mail traffic when that most likely might not be the case\n"
   ]
  },
  {
   "cell_type": "markdown",
   "metadata": {},
   "source": [
    "Data exploration through describe() for various years for Brisbane and Perth: "
   ]
  },
  {
   "cell_type": "code",
   "execution_count": 282,
   "metadata": {},
   "outputs": [
    {
     "data": {
      "text/html": [
       "<div>\n",
       "<style scoped>\n",
       "    .dataframe tbody tr th:only-of-type {\n",
       "        vertical-align: middle;\n",
       "    }\n",
       "\n",
       "    .dataframe tbody tr th {\n",
       "        vertical-align: top;\n",
       "    }\n",
       "\n",
       "    .dataframe thead th {\n",
       "        text-align: right;\n",
       "    }\n",
       "</style>\n",
       "<table border=\"1\" class=\"dataframe\">\n",
       "  <thead>\n",
       "    <tr style=\"text-align: right;\">\n",
       "      <th></th>\n",
       "      <th>Month</th>\n",
       "      <th>Passengers_In</th>\n",
       "      <th>Freight_In_(tonnes)</th>\n",
       "      <th>Mail_In_(tonnes)</th>\n",
       "      <th>Passengers_Out</th>\n",
       "      <th>Freight_Out_(tonnes)</th>\n",
       "      <th>Mail_Out_(tonnes)</th>\n",
       "      <th>Passengers_Total</th>\n",
       "      <th>Freight_Total_(tonnes)</th>\n",
       "      <th>Mail_Total_(tonnes)</th>\n",
       "      <th>Year</th>\n",
       "      <th>Month_num</th>\n",
       "    </tr>\n",
       "  </thead>\n",
       "  <tbody>\n",
       "    <tr>\n",
       "      <th>count</th>\n",
       "      <td>132.000000</td>\n",
       "      <td>132.000000</td>\n",
       "      <td>132.000000</td>\n",
       "      <td>132.000000</td>\n",
       "      <td>132.000000</td>\n",
       "      <td>132.000000</td>\n",
       "      <td>132.000000</td>\n",
       "      <td>132.000000</td>\n",
       "      <td>132.000000</td>\n",
       "      <td>132.000000</td>\n",
       "      <td>132.0</td>\n",
       "      <td>132.000000</td>\n",
       "    </tr>\n",
       "    <tr>\n",
       "      <th>mean</th>\n",
       "      <td>42429.916667</td>\n",
       "      <td>8318.371212</td>\n",
       "      <td>143.516886</td>\n",
       "      <td>4.829947</td>\n",
       "      <td>8017.053030</td>\n",
       "      <td>216.838841</td>\n",
       "      <td>3.986379</td>\n",
       "      <td>16335.424242</td>\n",
       "      <td>360.355727</td>\n",
       "      <td>8.816326</td>\n",
       "      <td>2016.0</td>\n",
       "      <td>2.977273</td>\n",
       "    </tr>\n",
       "    <tr>\n",
       "      <th>std</th>\n",
       "      <td>42.948405</td>\n",
       "      <td>9662.015628</td>\n",
       "      <td>246.295542</td>\n",
       "      <td>10.895528</td>\n",
       "      <td>9244.199491</td>\n",
       "      <td>379.939586</td>\n",
       "      <td>8.113510</td>\n",
       "      <td>18844.672995</td>\n",
       "      <td>614.337651</td>\n",
       "      <td>16.570239</td>\n",
       "      <td>0.0</td>\n",
       "      <td>1.422104</td>\n",
       "    </tr>\n",
       "    <tr>\n",
       "      <th>min</th>\n",
       "      <td>42370.000000</td>\n",
       "      <td>228.000000</td>\n",
       "      <td>0.000000</td>\n",
       "      <td>0.000000</td>\n",
       "      <td>271.000000</td>\n",
       "      <td>0.000000</td>\n",
       "      <td>0.000000</td>\n",
       "      <td>529.000000</td>\n",
       "      <td>0.000000</td>\n",
       "      <td>0.000000</td>\n",
       "      <td>2016.0</td>\n",
       "      <td>1.000000</td>\n",
       "    </tr>\n",
       "    <tr>\n",
       "      <th>25%</th>\n",
       "      <td>42401.000000</td>\n",
       "      <td>1663.000000</td>\n",
       "      <td>0.995250</td>\n",
       "      <td>0.000000</td>\n",
       "      <td>1694.500000</td>\n",
       "      <td>7.367750</td>\n",
       "      <td>0.000000</td>\n",
       "      <td>3465.250000</td>\n",
       "      <td>11.847500</td>\n",
       "      <td>0.000000</td>\n",
       "      <td>2016.0</td>\n",
       "      <td>2.000000</td>\n",
       "    </tr>\n",
       "    <tr>\n",
       "      <th>50%</th>\n",
       "      <td>42430.000000</td>\n",
       "      <td>6245.000000</td>\n",
       "      <td>31.646500</td>\n",
       "      <td>0.000000</td>\n",
       "      <td>5791.000000</td>\n",
       "      <td>64.983500</td>\n",
       "      <td>0.000000</td>\n",
       "      <td>11856.500000</td>\n",
       "      <td>91.858000</td>\n",
       "      <td>0.104000</td>\n",
       "      <td>2016.0</td>\n",
       "      <td>3.000000</td>\n",
       "    </tr>\n",
       "    <tr>\n",
       "      <th>75%</th>\n",
       "      <td>42461.000000</td>\n",
       "      <td>9901.250000</td>\n",
       "      <td>140.034000</td>\n",
       "      <td>5.068000</td>\n",
       "      <td>9229.250000</td>\n",
       "      <td>284.332000</td>\n",
       "      <td>1.203750</td>\n",
       "      <td>19372.250000</td>\n",
       "      <td>383.407750</td>\n",
       "      <td>11.690500</td>\n",
       "      <td>2016.0</td>\n",
       "      <td>4.000000</td>\n",
       "    </tr>\n",
       "    <tr>\n",
       "      <th>max</th>\n",
       "      <td>42491.000000</td>\n",
       "      <td>47218.000000</td>\n",
       "      <td>1124.250000</td>\n",
       "      <td>59.561000</td>\n",
       "      <td>44045.000000</td>\n",
       "      <td>2098.366000</td>\n",
       "      <td>33.997000</td>\n",
       "      <td>91263.000000</td>\n",
       "      <td>3124.156000</td>\n",
       "      <td>69.406000</td>\n",
       "      <td>2016.0</td>\n",
       "      <td>5.000000</td>\n",
       "    </tr>\n",
       "  </tbody>\n",
       "</table>\n",
       "</div>"
      ],
      "text/plain": [
       "              Month  Passengers_In  Freight_In_(tonnes)  Mail_In_(tonnes)  \\\n",
       "count    132.000000     132.000000           132.000000        132.000000   \n",
       "mean   42429.916667    8318.371212           143.516886          4.829947   \n",
       "std       42.948405    9662.015628           246.295542         10.895528   \n",
       "min    42370.000000     228.000000             0.000000          0.000000   \n",
       "25%    42401.000000    1663.000000             0.995250          0.000000   \n",
       "50%    42430.000000    6245.000000            31.646500          0.000000   \n",
       "75%    42461.000000    9901.250000           140.034000          5.068000   \n",
       "max    42491.000000   47218.000000          1124.250000         59.561000   \n",
       "\n",
       "       Passengers_Out  Freight_Out_(tonnes)  Mail_Out_(tonnes)  \\\n",
       "count      132.000000            132.000000         132.000000   \n",
       "mean      8017.053030            216.838841           3.986379   \n",
       "std       9244.199491            379.939586           8.113510   \n",
       "min        271.000000              0.000000           0.000000   \n",
       "25%       1694.500000              7.367750           0.000000   \n",
       "50%       5791.000000             64.983500           0.000000   \n",
       "75%       9229.250000            284.332000           1.203750   \n",
       "max      44045.000000           2098.366000          33.997000   \n",
       "\n",
       "       Passengers_Total  Freight_Total_(tonnes)  Mail_Total_(tonnes)    Year  \\\n",
       "count        132.000000              132.000000           132.000000   132.0   \n",
       "mean       16335.424242              360.355727             8.816326  2016.0   \n",
       "std        18844.672995              614.337651            16.570239     0.0   \n",
       "min          529.000000                0.000000             0.000000  2016.0   \n",
       "25%         3465.250000               11.847500             0.000000  2016.0   \n",
       "50%        11856.500000               91.858000             0.104000  2016.0   \n",
       "75%        19372.250000              383.407750            11.690500  2016.0   \n",
       "max        91263.000000             3124.156000            69.406000  2016.0   \n",
       "\n",
       "        Month_num  \n",
       "count  132.000000  \n",
       "mean     2.977273  \n",
       "std      1.422104  \n",
       "min      1.000000  \n",
       "25%      2.000000  \n",
       "50%      3.000000  \n",
       "75%      4.000000  \n",
       "max      5.000000  "
      ]
     },
     "execution_count": 282,
     "metadata": {},
     "output_type": "execute_result"
    }
   ],
   "source": [
    "brisbane[brisbane.Year==2016].describe()"
   ]
  },
  {
   "cell_type": "code",
   "execution_count": 283,
   "metadata": {},
   "outputs": [
    {
     "data": {
      "text/html": [
       "<div>\n",
       "<style scoped>\n",
       "    .dataframe tbody tr th:only-of-type {\n",
       "        vertical-align: middle;\n",
       "    }\n",
       "\n",
       "    .dataframe tbody tr th {\n",
       "        vertical-align: top;\n",
       "    }\n",
       "\n",
       "    .dataframe thead th {\n",
       "        text-align: right;\n",
       "    }\n",
       "</style>\n",
       "<table border=\"1\" class=\"dataframe\">\n",
       "  <thead>\n",
       "    <tr style=\"text-align: right;\">\n",
       "      <th></th>\n",
       "      <th>Month</th>\n",
       "      <th>Passengers_In</th>\n",
       "      <th>Freight_In_(tonnes)</th>\n",
       "      <th>Mail_In_(tonnes)</th>\n",
       "      <th>Passengers_Out</th>\n",
       "      <th>Freight_Out_(tonnes)</th>\n",
       "      <th>Mail_Out_(tonnes)</th>\n",
       "      <th>Passengers_Total</th>\n",
       "      <th>Freight_Total_(tonnes)</th>\n",
       "      <th>Mail_Total_(tonnes)</th>\n",
       "      <th>Year</th>\n",
       "      <th>Month_num</th>\n",
       "    </tr>\n",
       "  </thead>\n",
       "  <tbody>\n",
       "    <tr>\n",
       "      <th>count</th>\n",
       "      <td>315.000000</td>\n",
       "      <td>315.000000</td>\n",
       "      <td>315.000000</td>\n",
       "      <td>315.000000</td>\n",
       "      <td>315.000000</td>\n",
       "      <td>315.000000</td>\n",
       "      <td>315.000000</td>\n",
       "      <td>315.000000</td>\n",
       "      <td>315.000000</td>\n",
       "      <td>315.000000</td>\n",
       "      <td>315.0</td>\n",
       "      <td>315.000000</td>\n",
       "    </tr>\n",
       "    <tr>\n",
       "      <th>mean</th>\n",
       "      <td>42170.774603</td>\n",
       "      <td>8326.796825</td>\n",
       "      <td>174.601457</td>\n",
       "      <td>6.321432</td>\n",
       "      <td>8303.431746</td>\n",
       "      <td>216.957400</td>\n",
       "      <td>4.030003</td>\n",
       "      <td>16630.228571</td>\n",
       "      <td>391.558857</td>\n",
       "      <td>10.351435</td>\n",
       "      <td>2015.0</td>\n",
       "      <td>6.476190</td>\n",
       "    </tr>\n",
       "    <tr>\n",
       "      <th>std</th>\n",
       "      <td>105.301947</td>\n",
       "      <td>9641.243496</td>\n",
       "      <td>296.773372</td>\n",
       "      <td>11.906381</td>\n",
       "      <td>9638.657372</td>\n",
       "      <td>367.107298</td>\n",
       "      <td>9.330444</td>\n",
       "      <td>19203.668869</td>\n",
       "      <td>653.903211</td>\n",
       "      <td>19.076498</td>\n",
       "      <td>0.0</td>\n",
       "      <td>3.461605</td>\n",
       "    </tr>\n",
       "    <tr>\n",
       "      <th>min</th>\n",
       "      <td>42005.000000</td>\n",
       "      <td>0.000000</td>\n",
       "      <td>0.000000</td>\n",
       "      <td>0.000000</td>\n",
       "      <td>0.000000</td>\n",
       "      <td>0.000000</td>\n",
       "      <td>0.000000</td>\n",
       "      <td>0.000000</td>\n",
       "      <td>0.000000</td>\n",
       "      <td>0.000000</td>\n",
       "      <td>2015.0</td>\n",
       "      <td>1.000000</td>\n",
       "    </tr>\n",
       "    <tr>\n",
       "      <th>25%</th>\n",
       "      <td>42064.000000</td>\n",
       "      <td>1895.500000</td>\n",
       "      <td>1.244000</td>\n",
       "      <td>0.000000</td>\n",
       "      <td>2020.500000</td>\n",
       "      <td>11.319500</td>\n",
       "      <td>0.000000</td>\n",
       "      <td>3975.500000</td>\n",
       "      <td>17.413000</td>\n",
       "      <td>0.000000</td>\n",
       "      <td>2015.0</td>\n",
       "      <td>3.000000</td>\n",
       "    </tr>\n",
       "    <tr>\n",
       "      <th>50%</th>\n",
       "      <td>42156.000000</td>\n",
       "      <td>5524.000000</td>\n",
       "      <td>39.482000</td>\n",
       "      <td>0.000000</td>\n",
       "      <td>5505.000000</td>\n",
       "      <td>64.115000</td>\n",
       "      <td>0.000000</td>\n",
       "      <td>11329.000000</td>\n",
       "      <td>105.198000</td>\n",
       "      <td>0.170000</td>\n",
       "      <td>2015.0</td>\n",
       "      <td>6.000000</td>\n",
       "    </tr>\n",
       "    <tr>\n",
       "      <th>75%</th>\n",
       "      <td>42248.000000</td>\n",
       "      <td>9164.000000</td>\n",
       "      <td>198.485000</td>\n",
       "      <td>7.639500</td>\n",
       "      <td>9088.500000</td>\n",
       "      <td>293.392000</td>\n",
       "      <td>0.968000</td>\n",
       "      <td>18152.500000</td>\n",
       "      <td>486.319000</td>\n",
       "      <td>13.240500</td>\n",
       "      <td>2015.0</td>\n",
       "      <td>9.000000</td>\n",
       "    </tr>\n",
       "    <tr>\n",
       "      <th>max</th>\n",
       "      <td>42339.000000</td>\n",
       "      <td>44856.000000</td>\n",
       "      <td>1455.151000</td>\n",
       "      <td>58.549000</td>\n",
       "      <td>47951.000000</td>\n",
       "      <td>2188.911000</td>\n",
       "      <td>75.332000</td>\n",
       "      <td>89509.000000</td>\n",
       "      <td>3553.376000</td>\n",
       "      <td>133.066000</td>\n",
       "      <td>2015.0</td>\n",
       "      <td>12.000000</td>\n",
       "    </tr>\n",
       "  </tbody>\n",
       "</table>\n",
       "</div>"
      ],
      "text/plain": [
       "              Month  Passengers_In  Freight_In_(tonnes)  Mail_In_(tonnes)  \\\n",
       "count    315.000000     315.000000           315.000000        315.000000   \n",
       "mean   42170.774603    8326.796825           174.601457          6.321432   \n",
       "std      105.301947    9641.243496           296.773372         11.906381   \n",
       "min    42005.000000       0.000000             0.000000          0.000000   \n",
       "25%    42064.000000    1895.500000             1.244000          0.000000   \n",
       "50%    42156.000000    5524.000000            39.482000          0.000000   \n",
       "75%    42248.000000    9164.000000           198.485000          7.639500   \n",
       "max    42339.000000   44856.000000          1455.151000         58.549000   \n",
       "\n",
       "       Passengers_Out  Freight_Out_(tonnes)  Mail_Out_(tonnes)  \\\n",
       "count      315.000000            315.000000         315.000000   \n",
       "mean      8303.431746            216.957400           4.030003   \n",
       "std       9638.657372            367.107298           9.330444   \n",
       "min          0.000000              0.000000           0.000000   \n",
       "25%       2020.500000             11.319500           0.000000   \n",
       "50%       5505.000000             64.115000           0.000000   \n",
       "75%       9088.500000            293.392000           0.968000   \n",
       "max      47951.000000           2188.911000          75.332000   \n",
       "\n",
       "       Passengers_Total  Freight_Total_(tonnes)  Mail_Total_(tonnes)    Year  \\\n",
       "count        315.000000              315.000000           315.000000   315.0   \n",
       "mean       16630.228571              391.558857            10.351435  2015.0   \n",
       "std        19203.668869              653.903211            19.076498     0.0   \n",
       "min            0.000000                0.000000             0.000000  2015.0   \n",
       "25%         3975.500000               17.413000             0.000000  2015.0   \n",
       "50%        11329.000000              105.198000             0.170000  2015.0   \n",
       "75%        18152.500000              486.319000            13.240500  2015.0   \n",
       "max        89509.000000             3553.376000           133.066000  2015.0   \n",
       "\n",
       "        Month_num  \n",
       "count  315.000000  \n",
       "mean     6.476190  \n",
       "std      3.461605  \n",
       "min      1.000000  \n",
       "25%      3.000000  \n",
       "50%      6.000000  \n",
       "75%      9.000000  \n",
       "max     12.000000  "
      ]
     },
     "execution_count": 283,
     "metadata": {},
     "output_type": "execute_result"
    }
   ],
   "source": [
    "brisbane[brisbane.Year==2015].describe()"
   ]
  },
  {
   "cell_type": "code",
   "execution_count": 284,
   "metadata": {},
   "outputs": [
    {
     "data": {
      "text/html": [
       "<div>\n",
       "<style scoped>\n",
       "    .dataframe tbody tr th:only-of-type {\n",
       "        vertical-align: middle;\n",
       "    }\n",
       "\n",
       "    .dataframe tbody tr th {\n",
       "        vertical-align: top;\n",
       "    }\n",
       "\n",
       "    .dataframe thead th {\n",
       "        text-align: right;\n",
       "    }\n",
       "</style>\n",
       "<table border=\"1\" class=\"dataframe\">\n",
       "  <thead>\n",
       "    <tr style=\"text-align: right;\">\n",
       "      <th></th>\n",
       "      <th>Month</th>\n",
       "      <th>Passengers_In</th>\n",
       "      <th>Freight_In_(tonnes)</th>\n",
       "      <th>Mail_In_(tonnes)</th>\n",
       "      <th>Passengers_Out</th>\n",
       "      <th>Freight_Out_(tonnes)</th>\n",
       "      <th>Mail_Out_(tonnes)</th>\n",
       "      <th>Passengers_Total</th>\n",
       "      <th>Freight_Total_(tonnes)</th>\n",
       "      <th>Mail_Total_(tonnes)</th>\n",
       "      <th>Year</th>\n",
       "      <th>Month_num</th>\n",
       "    </tr>\n",
       "  </thead>\n",
       "  <tbody>\n",
       "    <tr>\n",
       "      <th>count</th>\n",
       "      <td>330.000000</td>\n",
       "      <td>330.000000</td>\n",
       "      <td>330.000000</td>\n",
       "      <td>330.000000</td>\n",
       "      <td>330.000000</td>\n",
       "      <td>330.000000</td>\n",
       "      <td>330.000000</td>\n",
       "      <td>330.000000</td>\n",
       "      <td>330.000000</td>\n",
       "      <td>330.000000</td>\n",
       "      <td>330.0</td>\n",
       "      <td>330.000000</td>\n",
       "    </tr>\n",
       "    <tr>\n",
       "      <th>mean</th>\n",
       "      <td>41438.924242</td>\n",
       "      <td>7190.660606</td>\n",
       "      <td>161.059791</td>\n",
       "      <td>10.014115</td>\n",
       "      <td>6958.251515</td>\n",
       "      <td>160.381255</td>\n",
       "      <td>3.195279</td>\n",
       "      <td>14148.912121</td>\n",
       "      <td>321.441045</td>\n",
       "      <td>13.209394</td>\n",
       "      <td>2013.0</td>\n",
       "      <td>6.415152</td>\n",
       "    </tr>\n",
       "    <tr>\n",
       "      <th>std</th>\n",
       "      <td>105.981978</td>\n",
       "      <td>8856.805949</td>\n",
       "      <td>277.007856</td>\n",
       "      <td>17.718396</td>\n",
       "      <td>8733.316501</td>\n",
       "      <td>297.497897</td>\n",
       "      <td>7.720459</td>\n",
       "      <td>17490.102145</td>\n",
       "      <td>557.677407</td>\n",
       "      <td>22.406863</td>\n",
       "      <td>0.0</td>\n",
       "      <td>3.484278</td>\n",
       "    </tr>\n",
       "    <tr>\n",
       "      <th>min</th>\n",
       "      <td>41275.000000</td>\n",
       "      <td>90.000000</td>\n",
       "      <td>0.000000</td>\n",
       "      <td>0.000000</td>\n",
       "      <td>0.000000</td>\n",
       "      <td>0.000000</td>\n",
       "      <td>0.000000</td>\n",
       "      <td>161.000000</td>\n",
       "      <td>0.000000</td>\n",
       "      <td>0.000000</td>\n",
       "      <td>2013.0</td>\n",
       "      <td>1.000000</td>\n",
       "    </tr>\n",
       "    <tr>\n",
       "      <th>25%</th>\n",
       "      <td>41334.000000</td>\n",
       "      <td>2044.250000</td>\n",
       "      <td>0.194750</td>\n",
       "      <td>0.000000</td>\n",
       "      <td>1686.250000</td>\n",
       "      <td>0.350500</td>\n",
       "      <td>0.000000</td>\n",
       "      <td>3958.000000</td>\n",
       "      <td>6.742750</td>\n",
       "      <td>0.000000</td>\n",
       "      <td>2013.0</td>\n",
       "      <td>3.000000</td>\n",
       "    </tr>\n",
       "    <tr>\n",
       "      <th>50%</th>\n",
       "      <td>41426.000000</td>\n",
       "      <td>4238.500000</td>\n",
       "      <td>29.433500</td>\n",
       "      <td>0.013500</td>\n",
       "      <td>3958.500000</td>\n",
       "      <td>31.256500</td>\n",
       "      <td>0.000000</td>\n",
       "      <td>7707.000000</td>\n",
       "      <td>69.410500</td>\n",
       "      <td>0.358500</td>\n",
       "      <td>2013.0</td>\n",
       "      <td>6.000000</td>\n",
       "    </tr>\n",
       "    <tr>\n",
       "      <th>75%</th>\n",
       "      <td>41518.000000</td>\n",
       "      <td>8116.750000</td>\n",
       "      <td>186.091000</td>\n",
       "      <td>14.810750</td>\n",
       "      <td>8320.250000</td>\n",
       "      <td>172.016750</td>\n",
       "      <td>0.952000</td>\n",
       "      <td>16319.750000</td>\n",
       "      <td>452.936250</td>\n",
       "      <td>19.382000</td>\n",
       "      <td>2013.0</td>\n",
       "      <td>9.000000</td>\n",
       "    </tr>\n",
       "    <tr>\n",
       "      <th>max</th>\n",
       "      <td>41609.000000</td>\n",
       "      <td>40676.000000</td>\n",
       "      <td>1369.845000</td>\n",
       "      <td>99.392000</td>\n",
       "      <td>42785.000000</td>\n",
       "      <td>1944.803000</td>\n",
       "      <td>56.688000</td>\n",
       "      <td>81426.000000</td>\n",
       "      <td>3062.712000</td>\n",
       "      <td>129.579000</td>\n",
       "      <td>2013.0</td>\n",
       "      <td>12.000000</td>\n",
       "    </tr>\n",
       "  </tbody>\n",
       "</table>\n",
       "</div>"
      ],
      "text/plain": [
       "              Month  Passengers_In  Freight_In_(tonnes)  Mail_In_(tonnes)  \\\n",
       "count    330.000000     330.000000           330.000000        330.000000   \n",
       "mean   41438.924242    7190.660606           161.059791         10.014115   \n",
       "std      105.981978    8856.805949           277.007856         17.718396   \n",
       "min    41275.000000      90.000000             0.000000          0.000000   \n",
       "25%    41334.000000    2044.250000             0.194750          0.000000   \n",
       "50%    41426.000000    4238.500000            29.433500          0.013500   \n",
       "75%    41518.000000    8116.750000           186.091000         14.810750   \n",
       "max    41609.000000   40676.000000          1369.845000         99.392000   \n",
       "\n",
       "       Passengers_Out  Freight_Out_(tonnes)  Mail_Out_(tonnes)  \\\n",
       "count      330.000000            330.000000         330.000000   \n",
       "mean      6958.251515            160.381255           3.195279   \n",
       "std       8733.316501            297.497897           7.720459   \n",
       "min          0.000000              0.000000           0.000000   \n",
       "25%       1686.250000              0.350500           0.000000   \n",
       "50%       3958.500000             31.256500           0.000000   \n",
       "75%       8320.250000            172.016750           0.952000   \n",
       "max      42785.000000           1944.803000          56.688000   \n",
       "\n",
       "       Passengers_Total  Freight_Total_(tonnes)  Mail_Total_(tonnes)    Year  \\\n",
       "count        330.000000              330.000000           330.000000   330.0   \n",
       "mean       14148.912121              321.441045            13.209394  2013.0   \n",
       "std        17490.102145              557.677407            22.406863     0.0   \n",
       "min          161.000000                0.000000             0.000000  2013.0   \n",
       "25%         3958.000000                6.742750             0.000000  2013.0   \n",
       "50%         7707.000000               69.410500             0.358500  2013.0   \n",
       "75%        16319.750000              452.936250            19.382000  2013.0   \n",
       "max        81426.000000             3062.712000           129.579000  2013.0   \n",
       "\n",
       "        Month_num  \n",
       "count  330.000000  \n",
       "mean     6.415152  \n",
       "std      3.484278  \n",
       "min      1.000000  \n",
       "25%      3.000000  \n",
       "50%      6.000000  \n",
       "75%      9.000000  \n",
       "max     12.000000  "
      ]
     },
     "execution_count": 284,
     "metadata": {},
     "output_type": "execute_result"
    }
   ],
   "source": [
    "brisbane[brisbane.Year==2013].describe()"
   ]
  },
  {
   "cell_type": "code",
   "execution_count": 285,
   "metadata": {},
   "outputs": [
    {
     "data": {
      "text/html": [
       "<div>\n",
       "<style scoped>\n",
       "    .dataframe tbody tr th:only-of-type {\n",
       "        vertical-align: middle;\n",
       "    }\n",
       "\n",
       "    .dataframe tbody tr th {\n",
       "        vertical-align: top;\n",
       "    }\n",
       "\n",
       "    .dataframe thead th {\n",
       "        text-align: right;\n",
       "    }\n",
       "</style>\n",
       "<table border=\"1\" class=\"dataframe\">\n",
       "  <thead>\n",
       "    <tr style=\"text-align: right;\">\n",
       "      <th></th>\n",
       "      <th>Month</th>\n",
       "      <th>Passengers_In</th>\n",
       "      <th>Freight_In_(tonnes)</th>\n",
       "      <th>Mail_In_(tonnes)</th>\n",
       "      <th>Passengers_Out</th>\n",
       "      <th>Freight_Out_(tonnes)</th>\n",
       "      <th>Mail_Out_(tonnes)</th>\n",
       "      <th>Passengers_Total</th>\n",
       "      <th>Freight_Total_(tonnes)</th>\n",
       "      <th>Mail_Total_(tonnes)</th>\n",
       "      <th>Year</th>\n",
       "      <th>Month_num</th>\n",
       "    </tr>\n",
       "  </thead>\n",
       "  <tbody>\n",
       "    <tr>\n",
       "      <th>count</th>\n",
       "      <td>377.000000</td>\n",
       "      <td>377.000000</td>\n",
       "      <td>377.000000</td>\n",
       "      <td>377.000000</td>\n",
       "      <td>377.000000</td>\n",
       "      <td>377.000000</td>\n",
       "      <td>377.000000</td>\n",
       "      <td>377.000000</td>\n",
       "      <td>377.000000</td>\n",
       "      <td>377.000000</td>\n",
       "      <td>377.0</td>\n",
       "      <td>377.000000</td>\n",
       "    </tr>\n",
       "    <tr>\n",
       "      <th>mean</th>\n",
       "      <td>40710.618037</td>\n",
       "      <td>5921.339523</td>\n",
       "      <td>142.434419</td>\n",
       "      <td>8.970403</td>\n",
       "      <td>5868.758621</td>\n",
       "      <td>126.284377</td>\n",
       "      <td>2.788525</td>\n",
       "      <td>11790.098143</td>\n",
       "      <td>268.718796</td>\n",
       "      <td>11.758928</td>\n",
       "      <td>2011.0</td>\n",
       "      <td>6.503979</td>\n",
       "    </tr>\n",
       "    <tr>\n",
       "      <th>std</th>\n",
       "      <td>104.800482</td>\n",
       "      <td>7870.675316</td>\n",
       "      <td>267.893376</td>\n",
       "      <td>22.732476</td>\n",
       "      <td>7814.381890</td>\n",
       "      <td>268.123928</td>\n",
       "      <td>8.022462</td>\n",
       "      <td>15609.205112</td>\n",
       "      <td>523.606757</td>\n",
       "      <td>27.620502</td>\n",
       "      <td>0.0</td>\n",
       "      <td>3.445720</td>\n",
       "    </tr>\n",
       "    <tr>\n",
       "      <th>min</th>\n",
       "      <td>40544.000000</td>\n",
       "      <td>0.000000</td>\n",
       "      <td>0.000000</td>\n",
       "      <td>0.000000</td>\n",
       "      <td>0.000000</td>\n",
       "      <td>0.000000</td>\n",
       "      <td>0.000000</td>\n",
       "      <td>0.000000</td>\n",
       "      <td>0.000000</td>\n",
       "      <td>0.000000</td>\n",
       "      <td>2011.0</td>\n",
       "      <td>1.000000</td>\n",
       "    </tr>\n",
       "    <tr>\n",
       "      <th>25%</th>\n",
       "      <td>40634.000000</td>\n",
       "      <td>1134.000000</td>\n",
       "      <td>0.014000</td>\n",
       "      <td>0.000000</td>\n",
       "      <td>875.000000</td>\n",
       "      <td>0.015000</td>\n",
       "      <td>0.000000</td>\n",
       "      <td>2331.000000</td>\n",
       "      <td>0.499000</td>\n",
       "      <td>0.000000</td>\n",
       "      <td>2011.0</td>\n",
       "      <td>4.000000</td>\n",
       "    </tr>\n",
       "    <tr>\n",
       "      <th>50%</th>\n",
       "      <td>40725.000000</td>\n",
       "      <td>2882.000000</td>\n",
       "      <td>29.368000</td>\n",
       "      <td>0.000000</td>\n",
       "      <td>2816.000000</td>\n",
       "      <td>21.004000</td>\n",
       "      <td>0.000000</td>\n",
       "      <td>5561.000000</td>\n",
       "      <td>61.872000</td>\n",
       "      <td>0.013000</td>\n",
       "      <td>2011.0</td>\n",
       "      <td>7.000000</td>\n",
       "    </tr>\n",
       "    <tr>\n",
       "      <th>75%</th>\n",
       "      <td>40787.000000</td>\n",
       "      <td>7567.000000</td>\n",
       "      <td>125.642000</td>\n",
       "      <td>0.899000</td>\n",
       "      <td>7856.000000</td>\n",
       "      <td>113.111000</td>\n",
       "      <td>0.512000</td>\n",
       "      <td>15306.000000</td>\n",
       "      <td>256.610000</td>\n",
       "      <td>2.451000</td>\n",
       "      <td>2011.0</td>\n",
       "      <td>9.000000</td>\n",
       "    </tr>\n",
       "    <tr>\n",
       "      <th>max</th>\n",
       "      <td>40878.000000</td>\n",
       "      <td>39868.000000</td>\n",
       "      <td>1459.923000</td>\n",
       "      <td>134.797000</td>\n",
       "      <td>42792.000000</td>\n",
       "      <td>1858.124000</td>\n",
       "      <td>60.249000</td>\n",
       "      <td>77800.000000</td>\n",
       "      <td>3094.317000</td>\n",
       "      <td>154.961000</td>\n",
       "      <td>2011.0</td>\n",
       "      <td>12.000000</td>\n",
       "    </tr>\n",
       "  </tbody>\n",
       "</table>\n",
       "</div>"
      ],
      "text/plain": [
       "              Month  Passengers_In  Freight_In_(tonnes)  Mail_In_(tonnes)  \\\n",
       "count    377.000000     377.000000           377.000000        377.000000   \n",
       "mean   40710.618037    5921.339523           142.434419          8.970403   \n",
       "std      104.800482    7870.675316           267.893376         22.732476   \n",
       "min    40544.000000       0.000000             0.000000          0.000000   \n",
       "25%    40634.000000    1134.000000             0.014000          0.000000   \n",
       "50%    40725.000000    2882.000000            29.368000          0.000000   \n",
       "75%    40787.000000    7567.000000           125.642000          0.899000   \n",
       "max    40878.000000   39868.000000          1459.923000        134.797000   \n",
       "\n",
       "       Passengers_Out  Freight_Out_(tonnes)  Mail_Out_(tonnes)  \\\n",
       "count      377.000000            377.000000         377.000000   \n",
       "mean      5868.758621            126.284377           2.788525   \n",
       "std       7814.381890            268.123928           8.022462   \n",
       "min          0.000000              0.000000           0.000000   \n",
       "25%        875.000000              0.015000           0.000000   \n",
       "50%       2816.000000             21.004000           0.000000   \n",
       "75%       7856.000000            113.111000           0.512000   \n",
       "max      42792.000000           1858.124000          60.249000   \n",
       "\n",
       "       Passengers_Total  Freight_Total_(tonnes)  Mail_Total_(tonnes)    Year  \\\n",
       "count        377.000000              377.000000           377.000000   377.0   \n",
       "mean       11790.098143              268.718796            11.758928  2011.0   \n",
       "std        15609.205112              523.606757            27.620502     0.0   \n",
       "min            0.000000                0.000000             0.000000  2011.0   \n",
       "25%         2331.000000                0.499000             0.000000  2011.0   \n",
       "50%         5561.000000               61.872000             0.013000  2011.0   \n",
       "75%        15306.000000              256.610000             2.451000  2011.0   \n",
       "max        77800.000000             3094.317000           154.961000  2011.0   \n",
       "\n",
       "        Month_num  \n",
       "count  377.000000  \n",
       "mean     6.503979  \n",
       "std      3.445720  \n",
       "min      1.000000  \n",
       "25%      4.000000  \n",
       "50%      7.000000  \n",
       "75%      9.000000  \n",
       "max     12.000000  "
      ]
     },
     "execution_count": 285,
     "metadata": {},
     "output_type": "execute_result"
    }
   ],
   "source": [
    "brisbane[brisbane.Year==2011].describe()"
   ]
  },
  {
   "cell_type": "code",
   "execution_count": 286,
   "metadata": {},
   "outputs": [
    {
     "data": {
      "text/html": [
       "<div>\n",
       "<style scoped>\n",
       "    .dataframe tbody tr th:only-of-type {\n",
       "        vertical-align: middle;\n",
       "    }\n",
       "\n",
       "    .dataframe tbody tr th {\n",
       "        vertical-align: top;\n",
       "    }\n",
       "\n",
       "    .dataframe thead th {\n",
       "        text-align: right;\n",
       "    }\n",
       "</style>\n",
       "<table border=\"1\" class=\"dataframe\">\n",
       "  <thead>\n",
       "    <tr style=\"text-align: right;\">\n",
       "      <th></th>\n",
       "      <th>Month</th>\n",
       "      <th>Passengers_In</th>\n",
       "      <th>Freight_In_(tonnes)</th>\n",
       "      <th>Mail_In_(tonnes)</th>\n",
       "      <th>Passengers_Out</th>\n",
       "      <th>Freight_Out_(tonnes)</th>\n",
       "      <th>Mail_Out_(tonnes)</th>\n",
       "      <th>Passengers_Total</th>\n",
       "      <th>Freight_Total_(tonnes)</th>\n",
       "      <th>Mail_Total_(tonnes)</th>\n",
       "      <th>Year</th>\n",
       "      <th>Month_num</th>\n",
       "    </tr>\n",
       "  </thead>\n",
       "  <tbody>\n",
       "    <tr>\n",
       "      <th>count</th>\n",
       "      <td>78.000000</td>\n",
       "      <td>78.000000</td>\n",
       "      <td>78.000000</td>\n",
       "      <td>78.000000</td>\n",
       "      <td>78.000000</td>\n",
       "      <td>78.000000</td>\n",
       "      <td>78.000000</td>\n",
       "      <td>78.000000</td>\n",
       "      <td>78.000000</td>\n",
       "      <td>78.000000</td>\n",
       "      <td>78.0</td>\n",
       "      <td>78.000000</td>\n",
       "    </tr>\n",
       "    <tr>\n",
       "      <th>mean</th>\n",
       "      <td>42429.448718</td>\n",
       "      <td>11716.987179</td>\n",
       "      <td>187.982295</td>\n",
       "      <td>2.868936</td>\n",
       "      <td>11008.692308</td>\n",
       "      <td>317.148500</td>\n",
       "      <td>0.685744</td>\n",
       "      <td>22725.679487</td>\n",
       "      <td>505.130795</td>\n",
       "      <td>3.554679</td>\n",
       "      <td>2016.0</td>\n",
       "      <td>2.961538</td>\n",
       "    </tr>\n",
       "    <tr>\n",
       "      <th>std</th>\n",
       "      <td>42.558332</td>\n",
       "      <td>13845.671339</td>\n",
       "      <td>228.121084</td>\n",
       "      <td>5.482965</td>\n",
       "      <td>12524.209862</td>\n",
       "      <td>458.224219</td>\n",
       "      <td>1.349018</td>\n",
       "      <td>26234.656381</td>\n",
       "      <td>674.825106</td>\n",
       "      <td>6.372295</td>\n",
       "      <td>0.0</td>\n",
       "      <td>1.409083</td>\n",
       "    </tr>\n",
       "    <tr>\n",
       "      <th>min</th>\n",
       "      <td>42370.000000</td>\n",
       "      <td>0.000000</td>\n",
       "      <td>0.000000</td>\n",
       "      <td>0.000000</td>\n",
       "      <td>0.000000</td>\n",
       "      <td>0.000000</td>\n",
       "      <td>0.000000</td>\n",
       "      <td>0.000000</td>\n",
       "      <td>0.000000</td>\n",
       "      <td>0.000000</td>\n",
       "      <td>2016.0</td>\n",
       "      <td>1.000000</td>\n",
       "    </tr>\n",
       "    <tr>\n",
       "      <th>25%</th>\n",
       "      <td>42401.000000</td>\n",
       "      <td>2212.250000</td>\n",
       "      <td>21.695250</td>\n",
       "      <td>0.000000</td>\n",
       "      <td>2180.000000</td>\n",
       "      <td>12.216000</td>\n",
       "      <td>0.000000</td>\n",
       "      <td>4344.000000</td>\n",
       "      <td>40.745250</td>\n",
       "      <td>0.000000</td>\n",
       "      <td>2016.0</td>\n",
       "      <td>2.000000</td>\n",
       "    </tr>\n",
       "    <tr>\n",
       "      <th>50%</th>\n",
       "      <td>42430.000000</td>\n",
       "      <td>6247.000000</td>\n",
       "      <td>78.488000</td>\n",
       "      <td>0.131000</td>\n",
       "      <td>6389.500000</td>\n",
       "      <td>135.597500</td>\n",
       "      <td>0.000000</td>\n",
       "      <td>12724.500000</td>\n",
       "      <td>261.068500</td>\n",
       "      <td>0.318000</td>\n",
       "      <td>2016.0</td>\n",
       "      <td>3.000000</td>\n",
       "    </tr>\n",
       "    <tr>\n",
       "      <th>75%</th>\n",
       "      <td>42461.000000</td>\n",
       "      <td>12958.000000</td>\n",
       "      <td>303.067250</td>\n",
       "      <td>4.171250</td>\n",
       "      <td>13219.500000</td>\n",
       "      <td>463.418000</td>\n",
       "      <td>0.270250</td>\n",
       "      <td>28682.000000</td>\n",
       "      <td>678.263500</td>\n",
       "      <td>4.431250</td>\n",
       "      <td>2016.0</td>\n",
       "      <td>4.000000</td>\n",
       "    </tr>\n",
       "    <tr>\n",
       "      <th>max</th>\n",
       "      <td>42491.000000</td>\n",
       "      <td>58548.000000</td>\n",
       "      <td>930.906000</td>\n",
       "      <td>27.538000</td>\n",
       "      <td>48660.000000</td>\n",
       "      <td>1865.524000</td>\n",
       "      <td>5.479000</td>\n",
       "      <td>107208.000000</td>\n",
       "      <td>2642.006000</td>\n",
       "      <td>27.538000</td>\n",
       "      <td>2016.0</td>\n",
       "      <td>5.000000</td>\n",
       "    </tr>\n",
       "  </tbody>\n",
       "</table>\n",
       "</div>"
      ],
      "text/plain": [
       "              Month  Passengers_In  Freight_In_(tonnes)  Mail_In_(tonnes)  \\\n",
       "count     78.000000      78.000000            78.000000         78.000000   \n",
       "mean   42429.448718   11716.987179           187.982295          2.868936   \n",
       "std       42.558332   13845.671339           228.121084          5.482965   \n",
       "min    42370.000000       0.000000             0.000000          0.000000   \n",
       "25%    42401.000000    2212.250000            21.695250          0.000000   \n",
       "50%    42430.000000    6247.000000            78.488000          0.131000   \n",
       "75%    42461.000000   12958.000000           303.067250          4.171250   \n",
       "max    42491.000000   58548.000000           930.906000         27.538000   \n",
       "\n",
       "       Passengers_Out  Freight_Out_(tonnes)  Mail_Out_(tonnes)  \\\n",
       "count       78.000000             78.000000          78.000000   \n",
       "mean     11008.692308            317.148500           0.685744   \n",
       "std      12524.209862            458.224219           1.349018   \n",
       "min          0.000000              0.000000           0.000000   \n",
       "25%       2180.000000             12.216000           0.000000   \n",
       "50%       6389.500000            135.597500           0.000000   \n",
       "75%      13219.500000            463.418000           0.270250   \n",
       "max      48660.000000           1865.524000           5.479000   \n",
       "\n",
       "       Passengers_Total  Freight_Total_(tonnes)  Mail_Total_(tonnes)    Year  \\\n",
       "count         78.000000               78.000000            78.000000    78.0   \n",
       "mean       22725.679487              505.130795             3.554679  2016.0   \n",
       "std        26234.656381              674.825106             6.372295     0.0   \n",
       "min            0.000000                0.000000             0.000000  2016.0   \n",
       "25%         4344.000000               40.745250             0.000000  2016.0   \n",
       "50%        12724.500000              261.068500             0.318000  2016.0   \n",
       "75%        28682.000000              678.263500             4.431250  2016.0   \n",
       "max       107208.000000             2642.006000            27.538000  2016.0   \n",
       "\n",
       "       Month_num  \n",
       "count  78.000000  \n",
       "mean    2.961538  \n",
       "std     1.409083  \n",
       "min     1.000000  \n",
       "25%     2.000000  \n",
       "50%     3.000000  \n",
       "75%     4.000000  \n",
       "max     5.000000  "
      ]
     },
     "execution_count": 286,
     "metadata": {},
     "output_type": "execute_result"
    }
   ],
   "source": [
    "perth[perth.Year ==2016].describe()"
   ]
  },
  {
   "cell_type": "code",
   "execution_count": 287,
   "metadata": {},
   "outputs": [
    {
     "data": {
      "text/html": [
       "<div>\n",
       "<style scoped>\n",
       "    .dataframe tbody tr th:only-of-type {\n",
       "        vertical-align: middle;\n",
       "    }\n",
       "\n",
       "    .dataframe tbody tr th {\n",
       "        vertical-align: top;\n",
       "    }\n",
       "\n",
       "    .dataframe thead th {\n",
       "        text-align: right;\n",
       "    }\n",
       "</style>\n",
       "<table border=\"1\" class=\"dataframe\">\n",
       "  <thead>\n",
       "    <tr style=\"text-align: right;\">\n",
       "      <th></th>\n",
       "      <th>Month</th>\n",
       "      <th>Passengers_In</th>\n",
       "      <th>Freight_In_(tonnes)</th>\n",
       "      <th>Mail_In_(tonnes)</th>\n",
       "      <th>Passengers_Out</th>\n",
       "      <th>Freight_Out_(tonnes)</th>\n",
       "      <th>Mail_Out_(tonnes)</th>\n",
       "      <th>Passengers_Total</th>\n",
       "      <th>Freight_Total_(tonnes)</th>\n",
       "      <th>Mail_Total_(tonnes)</th>\n",
       "      <th>Year</th>\n",
       "      <th>Month_num</th>\n",
       "    </tr>\n",
       "  </thead>\n",
       "  <tbody>\n",
       "    <tr>\n",
       "      <th>count</th>\n",
       "      <td>193.000000</td>\n",
       "      <td>193.000000</td>\n",
       "      <td>193.000000</td>\n",
       "      <td>193.000000</td>\n",
       "      <td>193.000000</td>\n",
       "      <td>193.000000</td>\n",
       "      <td>193.000000</td>\n",
       "      <td>193.000000</td>\n",
       "      <td>193.000000</td>\n",
       "      <td>193.000000</td>\n",
       "      <td>193.0</td>\n",
       "      <td>193.000000</td>\n",
       "    </tr>\n",
       "    <tr>\n",
       "      <th>mean</th>\n",
       "      <td>42169.362694</td>\n",
       "      <td>10967.544041</td>\n",
       "      <td>219.233907</td>\n",
       "      <td>4.317026</td>\n",
       "      <td>10756.979275</td>\n",
       "      <td>270.804539</td>\n",
       "      <td>0.922223</td>\n",
       "      <td>21724.523316</td>\n",
       "      <td>490.038446</td>\n",
       "      <td>5.239249</td>\n",
       "      <td>2015.0</td>\n",
       "      <td>6.430052</td>\n",
       "    </tr>\n",
       "    <tr>\n",
       "      <th>std</th>\n",
       "      <td>104.586353</td>\n",
       "      <td>13013.034463</td>\n",
       "      <td>278.863015</td>\n",
       "      <td>9.473052</td>\n",
       "      <td>12712.421749</td>\n",
       "      <td>389.045424</td>\n",
       "      <td>4.464096</td>\n",
       "      <td>25554.937813</td>\n",
       "      <td>656.632938</td>\n",
       "      <td>11.330594</td>\n",
       "      <td>0.0</td>\n",
       "      <td>3.437921</td>\n",
       "    </tr>\n",
       "    <tr>\n",
       "      <th>min</th>\n",
       "      <td>42005.000000</td>\n",
       "      <td>0.000000</td>\n",
       "      <td>0.000000</td>\n",
       "      <td>0.000000</td>\n",
       "      <td>0.000000</td>\n",
       "      <td>0.000000</td>\n",
       "      <td>0.000000</td>\n",
       "      <td>0.000000</td>\n",
       "      <td>0.000000</td>\n",
       "      <td>0.000000</td>\n",
       "      <td>2015.0</td>\n",
       "      <td>1.000000</td>\n",
       "    </tr>\n",
       "    <tr>\n",
       "      <th>25%</th>\n",
       "      <td>42095.000000</td>\n",
       "      <td>2302.000000</td>\n",
       "      <td>20.054000</td>\n",
       "      <td>0.000000</td>\n",
       "      <td>2306.000000</td>\n",
       "      <td>9.608000</td>\n",
       "      <td>0.000000</td>\n",
       "      <td>4588.000000</td>\n",
       "      <td>36.835000</td>\n",
       "      <td>0.000000</td>\n",
       "      <td>2015.0</td>\n",
       "      <td>4.000000</td>\n",
       "    </tr>\n",
       "    <tr>\n",
       "      <th>50%</th>\n",
       "      <td>42156.000000</td>\n",
       "      <td>5935.000000</td>\n",
       "      <td>75.365000</td>\n",
       "      <td>0.059000</td>\n",
       "      <td>5707.000000</td>\n",
       "      <td>126.690000</td>\n",
       "      <td>0.000000</td>\n",
       "      <td>11515.000000</td>\n",
       "      <td>224.874000</td>\n",
       "      <td>0.063000</td>\n",
       "      <td>2015.0</td>\n",
       "      <td>6.000000</td>\n",
       "    </tr>\n",
       "    <tr>\n",
       "      <th>75%</th>\n",
       "      <td>42248.000000</td>\n",
       "      <td>10985.000000</td>\n",
       "      <td>350.758000</td>\n",
       "      <td>3.825000</td>\n",
       "      <td>11279.000000</td>\n",
       "      <td>316.876000</td>\n",
       "      <td>0.000000</td>\n",
       "      <td>20766.000000</td>\n",
       "      <td>701.938000</td>\n",
       "      <td>5.701000</td>\n",
       "      <td>2015.0</td>\n",
       "      <td>9.000000</td>\n",
       "    </tr>\n",
       "    <tr>\n",
       "      <th>max</th>\n",
       "      <td>42339.000000</td>\n",
       "      <td>56975.000000</td>\n",
       "      <td>1255.255000</td>\n",
       "      <td>51.093000</td>\n",
       "      <td>58567.000000</td>\n",
       "      <td>1676.893000</td>\n",
       "      <td>54.851000</td>\n",
       "      <td>104077.000000</td>\n",
       "      <td>2731.511000</td>\n",
       "      <td>76.171000</td>\n",
       "      <td>2015.0</td>\n",
       "      <td>12.000000</td>\n",
       "    </tr>\n",
       "  </tbody>\n",
       "</table>\n",
       "</div>"
      ],
      "text/plain": [
       "              Month  Passengers_In  Freight_In_(tonnes)  Mail_In_(tonnes)  \\\n",
       "count    193.000000     193.000000           193.000000        193.000000   \n",
       "mean   42169.362694   10967.544041           219.233907          4.317026   \n",
       "std      104.586353   13013.034463           278.863015          9.473052   \n",
       "min    42005.000000       0.000000             0.000000          0.000000   \n",
       "25%    42095.000000    2302.000000            20.054000          0.000000   \n",
       "50%    42156.000000    5935.000000            75.365000          0.059000   \n",
       "75%    42248.000000   10985.000000           350.758000          3.825000   \n",
       "max    42339.000000   56975.000000          1255.255000         51.093000   \n",
       "\n",
       "       Passengers_Out  Freight_Out_(tonnes)  Mail_Out_(tonnes)  \\\n",
       "count      193.000000            193.000000         193.000000   \n",
       "mean     10756.979275            270.804539           0.922223   \n",
       "std      12712.421749            389.045424           4.464096   \n",
       "min          0.000000              0.000000           0.000000   \n",
       "25%       2306.000000              9.608000           0.000000   \n",
       "50%       5707.000000            126.690000           0.000000   \n",
       "75%      11279.000000            316.876000           0.000000   \n",
       "max      58567.000000           1676.893000          54.851000   \n",
       "\n",
       "       Passengers_Total  Freight_Total_(tonnes)  Mail_Total_(tonnes)    Year  \\\n",
       "count        193.000000              193.000000           193.000000   193.0   \n",
       "mean       21724.523316              490.038446             5.239249  2015.0   \n",
       "std        25554.937813              656.632938            11.330594     0.0   \n",
       "min            0.000000                0.000000             0.000000  2015.0   \n",
       "25%         4588.000000               36.835000             0.000000  2015.0   \n",
       "50%        11515.000000              224.874000             0.063000  2015.0   \n",
       "75%        20766.000000              701.938000             5.701000  2015.0   \n",
       "max       104077.000000             2731.511000            76.171000  2015.0   \n",
       "\n",
       "        Month_num  \n",
       "count  193.000000  \n",
       "mean     6.430052  \n",
       "std      3.437921  \n",
       "min      1.000000  \n",
       "25%      4.000000  \n",
       "50%      6.000000  \n",
       "75%      9.000000  \n",
       "max     12.000000  "
      ]
     },
     "execution_count": 287,
     "metadata": {},
     "output_type": "execute_result"
    }
   ],
   "source": [
    "perth[perth.Year ==2015].describe()"
   ]
  },
  {
   "cell_type": "code",
   "execution_count": 288,
   "metadata": {},
   "outputs": [
    {
     "data": {
      "text/html": [
       "<div>\n",
       "<style scoped>\n",
       "    .dataframe tbody tr th:only-of-type {\n",
       "        vertical-align: middle;\n",
       "    }\n",
       "\n",
       "    .dataframe tbody tr th {\n",
       "        vertical-align: top;\n",
       "    }\n",
       "\n",
       "    .dataframe thead th {\n",
       "        text-align: right;\n",
       "    }\n",
       "</style>\n",
       "<table border=\"1\" class=\"dataframe\">\n",
       "  <thead>\n",
       "    <tr style=\"text-align: right;\">\n",
       "      <th></th>\n",
       "      <th>Month</th>\n",
       "      <th>Passengers_In</th>\n",
       "      <th>Freight_In_(tonnes)</th>\n",
       "      <th>Mail_In_(tonnes)</th>\n",
       "      <th>Passengers_Out</th>\n",
       "      <th>Freight_Out_(tonnes)</th>\n",
       "      <th>Mail_Out_(tonnes)</th>\n",
       "      <th>Passengers_Total</th>\n",
       "      <th>Freight_Total_(tonnes)</th>\n",
       "      <th>Mail_Total_(tonnes)</th>\n",
       "      <th>Year</th>\n",
       "      <th>Month_num</th>\n",
       "    </tr>\n",
       "  </thead>\n",
       "  <tbody>\n",
       "    <tr>\n",
       "      <th>count</th>\n",
       "      <td>182.000000</td>\n",
       "      <td>182.000000</td>\n",
       "      <td>182.000000</td>\n",
       "      <td>182.000000</td>\n",
       "      <td>182.000000</td>\n",
       "      <td>182.000000</td>\n",
       "      <td>182.000000</td>\n",
       "      <td>182.000000</td>\n",
       "      <td>182.000000</td>\n",
       "      <td>182.000000</td>\n",
       "      <td>182.0</td>\n",
       "      <td>182.000000</td>\n",
       "    </tr>\n",
       "    <tr>\n",
       "      <th>mean</th>\n",
       "      <td>41445.362637</td>\n",
       "      <td>10885.917582</td>\n",
       "      <td>233.653995</td>\n",
       "      <td>7.296681</td>\n",
       "      <td>10651.664835</td>\n",
       "      <td>216.653242</td>\n",
       "      <td>1.493198</td>\n",
       "      <td>21537.582418</td>\n",
       "      <td>450.307236</td>\n",
       "      <td>8.789879</td>\n",
       "      <td>2013.0</td>\n",
       "      <td>6.626374</td>\n",
       "    </tr>\n",
       "    <tr>\n",
       "      <th>std</th>\n",
       "      <td>106.657143</td>\n",
       "      <td>12913.747785</td>\n",
       "      <td>296.342713</td>\n",
       "      <td>13.185025</td>\n",
       "      <td>12804.244184</td>\n",
       "      <td>332.192860</td>\n",
       "      <td>5.690041</td>\n",
       "      <td>25514.721539</td>\n",
       "      <td>613.404856</td>\n",
       "      <td>16.433029</td>\n",
       "      <td>0.0</td>\n",
       "      <td>3.505791</td>\n",
       "    </tr>\n",
       "    <tr>\n",
       "      <th>min</th>\n",
       "      <td>41275.000000</td>\n",
       "      <td>0.000000</td>\n",
       "      <td>0.000000</td>\n",
       "      <td>0.000000</td>\n",
       "      <td>0.000000</td>\n",
       "      <td>0.000000</td>\n",
       "      <td>0.000000</td>\n",
       "      <td>0.000000</td>\n",
       "      <td>0.000000</td>\n",
       "      <td>0.000000</td>\n",
       "      <td>2013.0</td>\n",
       "      <td>1.000000</td>\n",
       "    </tr>\n",
       "    <tr>\n",
       "      <th>25%</th>\n",
       "      <td>41365.000000</td>\n",
       "      <td>2150.000000</td>\n",
       "      <td>6.595000</td>\n",
       "      <td>0.000000</td>\n",
       "      <td>2103.250000</td>\n",
       "      <td>0.506000</td>\n",
       "      <td>0.000000</td>\n",
       "      <td>4256.000000</td>\n",
       "      <td>8.897750</td>\n",
       "      <td>0.000000</td>\n",
       "      <td>2013.0</td>\n",
       "      <td>4.000000</td>\n",
       "    </tr>\n",
       "    <tr>\n",
       "      <th>50%</th>\n",
       "      <td>41456.000000</td>\n",
       "      <td>5385.000000</td>\n",
       "      <td>61.641500</td>\n",
       "      <td>0.001500</td>\n",
       "      <td>5479.000000</td>\n",
       "      <td>92.567000</td>\n",
       "      <td>0.000000</td>\n",
       "      <td>11058.500000</td>\n",
       "      <td>262.176000</td>\n",
       "      <td>0.066000</td>\n",
       "      <td>2013.0</td>\n",
       "      <td>7.000000</td>\n",
       "    </tr>\n",
       "    <tr>\n",
       "      <th>75%</th>\n",
       "      <td>41548.000000</td>\n",
       "      <td>15992.250000</td>\n",
       "      <td>367.982500</td>\n",
       "      <td>6.343000</td>\n",
       "      <td>14996.750000</td>\n",
       "      <td>249.725000</td>\n",
       "      <td>0.010750</td>\n",
       "      <td>34423.500000</td>\n",
       "      <td>641.885000</td>\n",
       "      <td>9.591000</td>\n",
       "      <td>2013.0</td>\n",
       "      <td>10.000000</td>\n",
       "    </tr>\n",
       "    <tr>\n",
       "      <th>max</th>\n",
       "      <td>41609.000000</td>\n",
       "      <td>56899.000000</td>\n",
       "      <td>1199.523000</td>\n",
       "      <td>59.130000</td>\n",
       "      <td>63530.000000</td>\n",
       "      <td>1495.582000</td>\n",
       "      <td>41.762000</td>\n",
       "      <td>107817.000000</td>\n",
       "      <td>2532.043000</td>\n",
       "      <td>80.842000</td>\n",
       "      <td>2013.0</td>\n",
       "      <td>12.000000</td>\n",
       "    </tr>\n",
       "  </tbody>\n",
       "</table>\n",
       "</div>"
      ],
      "text/plain": [
       "              Month  Passengers_In  Freight_In_(tonnes)  Mail_In_(tonnes)  \\\n",
       "count    182.000000     182.000000           182.000000        182.000000   \n",
       "mean   41445.362637   10885.917582           233.653995          7.296681   \n",
       "std      106.657143   12913.747785           296.342713         13.185025   \n",
       "min    41275.000000       0.000000             0.000000          0.000000   \n",
       "25%    41365.000000    2150.000000             6.595000          0.000000   \n",
       "50%    41456.000000    5385.000000            61.641500          0.001500   \n",
       "75%    41548.000000   15992.250000           367.982500          6.343000   \n",
       "max    41609.000000   56899.000000          1199.523000         59.130000   \n",
       "\n",
       "       Passengers_Out  Freight_Out_(tonnes)  Mail_Out_(tonnes)  \\\n",
       "count      182.000000            182.000000         182.000000   \n",
       "mean     10651.664835            216.653242           1.493198   \n",
       "std      12804.244184            332.192860           5.690041   \n",
       "min          0.000000              0.000000           0.000000   \n",
       "25%       2103.250000              0.506000           0.000000   \n",
       "50%       5479.000000             92.567000           0.000000   \n",
       "75%      14996.750000            249.725000           0.010750   \n",
       "max      63530.000000           1495.582000          41.762000   \n",
       "\n",
       "       Passengers_Total  Freight_Total_(tonnes)  Mail_Total_(tonnes)    Year  \\\n",
       "count        182.000000              182.000000           182.000000   182.0   \n",
       "mean       21537.582418              450.307236             8.789879  2013.0   \n",
       "std        25514.721539              613.404856            16.433029     0.0   \n",
       "min            0.000000                0.000000             0.000000  2013.0   \n",
       "25%         4256.000000                8.897750             0.000000  2013.0   \n",
       "50%        11058.500000              262.176000             0.066000  2013.0   \n",
       "75%        34423.500000              641.885000             9.591000  2013.0   \n",
       "max       107817.000000             2532.043000            80.842000  2013.0   \n",
       "\n",
       "        Month_num  \n",
       "count  182.000000  \n",
       "mean     6.626374  \n",
       "std      3.505791  \n",
       "min      1.000000  \n",
       "25%      4.000000  \n",
       "50%      7.000000  \n",
       "75%     10.000000  \n",
       "max     12.000000  "
      ]
     },
     "execution_count": 288,
     "metadata": {},
     "output_type": "execute_result"
    }
   ],
   "source": [
    "perth[perth.Year ==2013].describe()"
   ]
  },
  {
   "cell_type": "markdown",
   "metadata": {},
   "source": [
    "### Part B1 - Linear Regression and Prediction\n",
    "\n",
    "Create a scatter plot in Python showing the total annual freight in tonnes at all Australian\n",
    "state capital ports against the year.\n"
   ]
  },
  {
   "cell_type": "code",
   "execution_count": 289,
   "metadata": {},
   "outputs": [
    {
     "data": {
      "text/html": [
       "<div>\n",
       "<style scoped>\n",
       "    .dataframe tbody tr th:only-of-type {\n",
       "        vertical-align: middle;\n",
       "    }\n",
       "\n",
       "    .dataframe tbody tr th {\n",
       "        vertical-align: top;\n",
       "    }\n",
       "\n",
       "    .dataframe thead th {\n",
       "        text-align: right;\n",
       "    }\n",
       "</style>\n",
       "<table border=\"1\" class=\"dataframe\">\n",
       "  <thead>\n",
       "    <tr style=\"text-align: right;\">\n",
       "      <th></th>\n",
       "      <th>Year</th>\n",
       "      <th>Freight_Total_(tonnes)</th>\n",
       "    </tr>\n",
       "  </thead>\n",
       "  <tbody>\n",
       "    <tr>\n",
       "      <th>0</th>\n",
       "      <td>1985</td>\n",
       "      <td>230272.05</td>\n",
       "    </tr>\n",
       "    <tr>\n",
       "      <th>1</th>\n",
       "      <td>1986</td>\n",
       "      <td>247340.71</td>\n",
       "    </tr>\n",
       "    <tr>\n",
       "      <th>2</th>\n",
       "      <td>1987</td>\n",
       "      <td>286028.18</td>\n",
       "    </tr>\n",
       "    <tr>\n",
       "      <th>3</th>\n",
       "      <td>1988</td>\n",
       "      <td>306648.32</td>\n",
       "    </tr>\n",
       "    <tr>\n",
       "      <th>4</th>\n",
       "      <td>1989</td>\n",
       "      <td>345092.75</td>\n",
       "    </tr>\n",
       "  </tbody>\n",
       "</table>\n",
       "</div>"
      ],
      "text/plain": [
       "   Year  Freight_Total_(tonnes)\n",
       "0  1985               230272.05\n",
       "1  1986               247340.71\n",
       "2  1987               286028.18\n",
       "3  1988               306648.32\n",
       "4  1989               345092.75"
      ]
     },
     "execution_count": 289,
     "metadata": {},
     "output_type": "execute_result"
    }
   ],
   "source": [
    "# creating a sub data frame \n",
    "sub_ACP_tf = sub_ACP.groupby('Year').agg({'Freight_Total_(tonnes)':'sum'})\n",
    "\n",
    "#flattening the groupby output\n",
    "sub_ACP_tf = sub_ACP_tf.reset_index()\n",
    "sub_ACP_tf = sub_ACP_tf.round(2)\n",
    "sub_ACP_tf.head()"
   ]
  },
  {
   "cell_type": "code",
   "execution_count": 290,
   "metadata": {},
   "outputs": [
    {
     "data": {
      "image/png": "[encoded data removed]",
      "text/plain": [
       "<Figure size 432x288 with 1 Axes>"
      ]
     },
     "metadata": {
      "needs_background": "light"
     },
     "output_type": "display_data"
    }
   ],
   "source": [
    "#creating a scater plot \n",
    "plt.scatter(sub_ACP_tf.Year, \n",
    "            sub_ACP_tf['Freight_Total_(tonnes)'])\n",
    "\n",
    "plt.title('Total Anual Freight in Capital Australian Ports')\n",
    "plt.xlabel('Year')\n",
    "plt.ylabel('Total Anual Feright (tonnes)')\n",
    "plt.show() \n"
   ]
  },
  {
   "cell_type": "markdown",
   "metadata": {},
   "source": [
    "#### 1. Does the data show a clear pattern? Describe the relationship you observe.\n",
    "\n",
    "The above graph does display a general pattern, we can see that as the Year increases the Total Anual Feright also increases. Therefore we see a positive linear relationship between total anual frieght and year. "
   ]
  },
  {
   "cell_type": "markdown",
   "metadata": {},
   "source": [
    "#### 2. Are there any outliers? If so, use the IQR rule to remove the outliers. IQR rule is a simple method which can help you to detect the outliers based on the output of function “describe()”."
   ]
  },
  {
   "cell_type": "code",
   "execution_count": 291,
   "metadata": {},
   "outputs": [
    {
     "data": {
      "text/plain": [
       "count        32.000000\n",
       "mean     592518.790625\n",
       "std      204506.840452\n",
       "min      230272.050000\n",
       "25%      403832.120000\n",
       "50%      632138.235000\n",
       "75%      739975.605000\n",
       "max      970265.750000\n",
       "Name: Freight_Total_(tonnes), dtype: float64"
      ]
     },
     "execution_count": 291,
     "metadata": {},
     "output_type": "execute_result"
    }
   ],
   "source": [
    "sub_ACP_tf['Freight_Total_(tonnes)'].describe()"
   ]
  },
  {
   "cell_type": "markdown",
   "metadata": {},
   "source": [
    "Using the describe() method we can get the values of Q1 and Q3 to calculate the inter quartile range (IQR) which can be used to detect the outliners. The following code uses the percentile method of the numpy library to calculate the 3rd (75) and the 1st(25) quartiles. "
   ]
  },
  {
   "cell_type": "code",
   "execution_count": 292,
   "metadata": {},
   "outputs": [
    {
     "name": "stdout",
     "output_type": "stream",
     "text": [
      "The value of the interquartile range IQR is 336143.485\n"
     ]
    }
   ],
   "source": [
    "#calculating IQR \n",
    "Q1 = np.percentile(sub_ACP_tf['Freight_Total_(tonnes)'], 25)\n",
    "Q3= np.percentile(sub_ACP_tf['Freight_Total_(tonnes)'], 75)\n",
    "IQR = Q3-Q1 \n",
    "print('The value of the interquartile range IQR is ' + str(IQR))  "
   ]
  },
  {
   "cell_type": "markdown",
   "metadata": {},
   "source": [
    "Now, Finding the boudaries above and beyond 1.5 * IQR "
   ]
  },
  {
   "cell_type": "code",
   "execution_count": 293,
   "metadata": {},
   "outputs": [
    {
     "name": "stdout",
     "output_type": "stream",
     "text": [
      "The lower and upper boundary are -100383.11 and 1244190.83 respectively.\n"
     ]
    }
   ],
   "source": [
    "lower_boundary= Q1 - (1.5*IQR)\n",
    "upper_boundary = Q3+ (1.5*IQR)\n",
    "print('The lower and upper boundary are ' + str(lower_boundary.round(2))+ \n",
    "      ' and ' + str(upper_boundary.round(2)) + ' respectively.') "
   ]
  },
  {
   "cell_type": "markdown",
   "metadata": {},
   "source": [
    "Looking  at the min (i.e. 230272.05) and max (i.e. 970265.75) values from the describe() table we can see that there are no values that lie beyond the boundary region therefore, there are no outliers according to the IQR rule. "
   ]
  },
  {
   "cell_type": "markdown",
   "metadata": {},
   "source": [
    "#### 3. Create a simple linear regression to model the relationship between Year and the Total Freight. Does the linear fit look to be a good fit? Justify your answer.\n",
    "\n"
   ]
  },
  {
   "cell_type": "code",
   "execution_count": 294,
   "metadata": {},
   "outputs": [],
   "source": [
    "from scipy.stats import linregress"
   ]
  },
  {
   "cell_type": "code",
   "execution_count": 295,
   "metadata": {},
   "outputs": [
    {
     "data": {
      "image/png": "[encoded data removed]",
      "text/plain": [
       "<Figure size 432x288 with 1 Axes>"
      ]
     },
     "metadata": {
      "needs_background": "light"
     },
     "output_type": "display_data"
    }
   ],
   "source": [
    "#creating a linear regression model \n",
    "slope, intercept, r_value, p_value, std_err =linregress(sub_ACP_tf.Year,\n",
    "                                                        sub_ACP_tf['Freight_Total_(tonnes)'])\n",
    "\n",
    "line = [slope*xi + intercept for xi in sub_ACP_tf.Year]\n",
    "\n",
    "#ploting the line \n",
    "plt.plot(sub_ACP_tf.Year,line,'r-', linewidth=3)\n",
    "\n",
    "plt.scatter(sub_ACP_tf.Year, sub_ACP_tf['Freight_Total_(tonnes)'])\n",
    "\n",
    "plt.title('Total Anual Freight in Capital Australian Ports')\n",
    "plt.xlabel('Year')\n",
    "plt.ylabel('Total Anual Feright (tonnes)')\n",
    "\n",
    "\n",
    "plt.show()"
   ]
  },
  {
   "cell_type": "code",
   "execution_count": 296,
   "metadata": {},
   "outputs": [
    {
     "data": {
      "text/plain": [
       "0.8667"
      ]
     },
     "execution_count": 296,
     "metadata": {},
     "output_type": "execute_result"
    }
   ],
   "source": [
    "# checking the performance of the model \n",
    "r_value.round(4)"
   ]
  },
  {
   "cell_type": "code",
   "execution_count": 297,
   "metadata": {},
   "outputs": [
    {
     "data": {
      "text/plain": [
       "1.4324411983119463e-10"
      ]
     },
     "execution_count": 297,
     "metadata": {},
     "output_type": "execute_result"
    }
   ],
   "source": [
    "p_value # standard error"
   ]
  },
  {
   "cell_type": "markdown",
   "metadata": {},
   "source": [
    "The r-value suggests that the model explains 86.6% of variations in the data , which suggests that the line is a good representation of the dataset. Likewise, the p-value i.e. 1.43 e-10 is extremely low which suggests that the model fits the dataset very well. Therefore, the linear fit is a good fit.\n"
   ]
  },
  {
   "cell_type": "markdown",
   "metadata": {},
   "source": [
    "#### 4. How fast is the total amount of freight increasing each year? [Hint: Think about what parameter in the regression model represents the rate of change]\n",
    "\n",
    "\n"
   ]
  },
  {
   "cell_type": "code",
   "execution_count": 298,
   "metadata": {},
   "outputs": [
    {
     "data": {
      "text/plain": [
       "18894.49"
      ]
     },
     "execution_count": 298,
     "metadata": {},
     "output_type": "execute_result"
    }
   ],
   "source": [
    "slope.round(2)"
   ]
  },
  {
   "cell_type": "markdown",
   "metadata": {},
   "source": [
    "The slope represent the rate of increase of freight, therefore, the freight is increasing by 18894.49 tonnes each year. "
   ]
  },
  {
   "cell_type": "markdown",
   "metadata": {},
   "source": [
    "#### 5. What does the linear model predict for the total freight volume at Australian state capital ports in 2020?\n",
    "\n",
    "By inserting the values to the formula y=mx+ c we can predict the total freight volume at Australian state capital ports in 2020. \n",
    "The variables and values are as follows \n",
    "\n",
    "- y= total freight volume \n",
    "- m= slope \n",
    "- x= 2020\n",
    "- c= y-intercept"
   ]
  },
  {
   "cell_type": "code",
   "execution_count": 299,
   "metadata": {},
   "outputs": [
    {
     "data": {
      "text/plain": [
       "960961.39"
      ]
     },
     "execution_count": 299,
     "metadata": {},
     "output_type": "execute_result"
    }
   ],
   "source": [
    "total_fv = slope*2020 + intercept\n",
    "total_fv.round(2)"
   ]
  },
  {
   "cell_type": "markdown",
   "metadata": {},
   "source": [
    "According to the linear model the total freight volume at Australian state capital ports in 2020 is 960961.39."
   ]
  },
  {
   "cell_type": "markdown",
   "metadata": {},
   "source": [
    "#### 6. Try fitting the linear model only to the data from the year 2005 onwards. What happens to the prediction for 2020? Which prediction could you trust more? Why?"
   ]
  },
  {
   "cell_type": "code",
   "execution_count": 300,
   "metadata": {},
   "outputs": [
    {
     "data": {
      "image/png": "[encoded data removed]",
      "text/plain": [
       "<Figure size 432x288 with 1 Axes>"
      ]
     },
     "metadata": {
      "needs_background": "light"
     },
     "output_type": "display_data"
    }
   ],
   "source": [
    "#creating a subset with data from 2005 \n",
    "sub_ACP_tf = sub_ACP_tf[sub_ACP_tf.Year>=2005]\n",
    "#creating a linear regression model \n",
    "slope, intercept, r_value, p_value, std_err = linregress(sub_ACP_tf.Year,\n",
    "                                            sub_ACP_tf['Freight_Total_(tonnes)'])\n",
    "\n",
    "\n",
    "line = [slope*xi + intercept for xi in sub_ACP_tf.Year]\n",
    "\n",
    "#ploting the line\n",
    "plt.plot(sub_ACP_tf.Year,line,'r-', linewidth=3)\n",
    "\n",
    "\n",
    "plt.scatter(sub_ACP_tf.Year, sub_ACP_tf['Freight_Total_(tonnes)'])\n",
    "\n",
    "plt.title('Total Anual Freight in Capital Australian Ports')\n",
    "plt.xlabel('Year')\n",
    "plt.ylabel('Total Anual Feright (tonnes)')\n",
    "\n",
    "\n",
    "plt.show()"
   ]
  },
  {
   "cell_type": "code",
   "execution_count": 301,
   "metadata": {},
   "outputs": [
    {
     "data": {
      "text/plain": [
       "802553.15"
      ]
     },
     "execution_count": 301,
     "metadata": {},
     "output_type": "execute_result"
    }
   ],
   "source": [
    "total_fv= slope*2020 + intercept\n",
    "total_fv.round(2)"
   ]
  },
  {
   "cell_type": "markdown",
   "metadata": {},
   "source": [
    "According to the linear model  from the year 2005 onwards the total freight volume at Australian state capital ports in 2020 is 802553.15.\n",
    "The total fireight volume predicted for 2020 is lower than the previous model. "
   ]
  },
  {
   "cell_type": "code",
   "execution_count": 302,
   "metadata": {},
   "outputs": [
    {
     "data": {
      "text/plain": [
       "0.0841"
      ]
     },
     "execution_count": 302,
     "metadata": {},
     "output_type": "execute_result"
    }
   ],
   "source": [
    "r_value.round(4)"
   ]
  },
  {
   "cell_type": "code",
   "execution_count": 303,
   "metadata": {},
   "outputs": [
    {
     "data": {
      "text/plain": [
       "0.795"
      ]
     },
     "execution_count": 303,
     "metadata": {},
     "output_type": "execute_result"
    }
   ],
   "source": [
    "p_value.round(3)"
   ]
  },
  {
   "cell_type": "markdown",
   "metadata": {},
   "source": [
    "For the model fitted to the data from 2005 onwards we can see that the r value is 0.084 which is very low. This suggests that the model only explains 8.4% of variations in the dataset. Likewise, the p value is 0.795 for this model which is high and suggests that the changes in the predictor are not associated with the changes in the response, therefore it is not a good fit to the dataset. Thus, I would trust the first prediction made in q5 i.e. 960961.39 than the prediction from the above model."
   ]
  },
  {
   "cell_type": "markdown",
   "metadata": {},
   "source": [
    "### Part B2 - Comparing Traffic Volumes\n",
    "We explore the distribution of total monthly passenger traffic at *all of the Australian* ports in\n",
    "this question.\n",
    "#### 1. You first need to calculate the total number of Passengers_In and the total number of Passengers_Out for each unique month over the years for all the Australian ports. (i.e consider each month of each year as a unique month to calculate the total number of passengers. You can make use of the column “Month” for this). .\n"
   ]
  },
  {
   "cell_type": "code",
   "execution_count": 304,
   "metadata": {},
   "outputs": [
    {
     "data": {
      "text/html": [
       "<div>\n",
       "<style scoped>\n",
       "    .dataframe tbody tr th:only-of-type {\n",
       "        vertical-align: middle;\n",
       "    }\n",
       "\n",
       "    .dataframe tbody tr th {\n",
       "        vertical-align: top;\n",
       "    }\n",
       "\n",
       "    .dataframe thead th {\n",
       "        text-align: right;\n",
       "    }\n",
       "</style>\n",
       "<table border=\"1\" class=\"dataframe\">\n",
       "  <thead>\n",
       "    <tr style=\"text-align: right;\">\n",
       "      <th></th>\n",
       "      <th>Month</th>\n",
       "      <th>Passengers_In</th>\n",
       "      <th>Passengers_Out</th>\n",
       "    </tr>\n",
       "  </thead>\n",
       "  <tbody>\n",
       "    <tr>\n",
       "      <th>0</th>\n",
       "      <td>31048</td>\n",
       "      <td>263795</td>\n",
       "      <td>208770</td>\n",
       "    </tr>\n",
       "    <tr>\n",
       "      <th>1</th>\n",
       "      <td>31079</td>\n",
       "      <td>204953</td>\n",
       "      <td>179222</td>\n",
       "    </tr>\n",
       "    <tr>\n",
       "      <th>2</th>\n",
       "      <td>31107</td>\n",
       "      <td>209513</td>\n",
       "      <td>231582</td>\n",
       "    </tr>\n",
       "    <tr>\n",
       "      <th>3</th>\n",
       "      <td>31138</td>\n",
       "      <td>182673</td>\n",
       "      <td>214403</td>\n",
       "    </tr>\n",
       "    <tr>\n",
       "      <th>4</th>\n",
       "      <td>31168</td>\n",
       "      <td>198902</td>\n",
       "      <td>224350</td>\n",
       "    </tr>\n",
       "  </tbody>\n",
       "</table>\n",
       "</div>"
      ],
      "text/plain": [
       "   Month  Passengers_In  Passengers_Out\n",
       "0  31048         263795          208770\n",
       "1  31079         204953          179222\n",
       "2  31107         209513          231582\n",
       "3  31138         182673          214403\n",
       "4  31168         198902          224350"
      ]
     },
     "execution_count": 304,
     "metadata": {},
     "output_type": "execute_result"
    }
   ],
   "source": [
    "#grouping data by Month- Year \n",
    "sub_AP_mtv = city_p.groupby('Month').agg({'Passengers_In':'sum','Passengers_Out':'sum'})\n",
    "#flattening the groupby output\n",
    "sub_AP_mtv = sub_AP_mtv.reset_index()\n",
    "sub_AP_mtv.head()"
   ]
  },
  {
   "cell_type": "markdown",
   "metadata": {},
   "source": [
    "#### Next, create histograms to check the distribution of monthly Passengers_In and monthly Passengers_Out. Describe the distributions. Can you see any outliers in the plots? Discuss your answer\n",
    "\n",
    "https://datatofish.com/plot-histogram-python/"
   ]
  },
  {
   "cell_type": "markdown",
   "metadata": {},
   "source": [
    "For the histograms, I used the trial and error method to determine the appropriate number of bins. I chose the number that detailed the important pattern of the dataset while not making the data pattern look rough.  "
   ]
  },
  {
   "cell_type": "code",
   "execution_count": 305,
   "metadata": {
    "scrolled": true
   },
   "outputs": [
    {
     "data": {
      "image/png": "[encoded data removed]",
      "text/plain": [
       "<Figure size 432x288 with 1 Axes>"
      ]
     },
     "metadata": {
      "needs_background": "light"
     },
     "output_type": "display_data"
    }
   ],
   "source": [
    "\n",
    "n, bins, patches= plt.hist(sub_AP_mtv['Passengers_In'],  bins=30, label=\"Data\")\n",
    "plt.ylabel('Total Passenger-in Count')\n",
    "plt.xlabel('Total no. of Passengers_In')\n",
    "plt.title(\"Histogram of Total no. of Monthly Passengers_In\")\n",
    "plt.show()\n"
   ]
  },
  {
   "cell_type": "code",
   "execution_count": 306,
   "metadata": {},
   "outputs": [
    {
     "data": {
      "image/png": "[encoded data removed]",
      "text/plain": [
       "<Figure size 432x288 with 1 Axes>"
      ]
     },
     "metadata": {
      "needs_background": "light"
     },
     "output_type": "display_data"
    }
   ],
   "source": [
    "#choosing 30 as number of bins. \n",
    "n, bins, patches= plt.hist(sub_AP_mtv['Passengers_Out'],  bins=30,label=\"Data\")\n",
    "plt.ylabel('Passenger-out Count')\n",
    "plt.xlabel('Total no. of Passengers_Out')\n",
    "plt.title(\"Histogram of Total no. of Monthly Passengers_Out\")\n",
    "plt.show()"
   ]
  },
  {
   "cell_type": "markdown",
   "metadata": {},
   "source": [
    "https://bolt.mph.ufl.edu/6050-6052/unit-1/one-quantitative-variable-introduction/describing-distributions/#shape\n",
    "\n",
    "Both passenger_out and passenger_in histograms are positively skewed as we can see a longer right tail suggesting that majority of the unique month observations are concentrated towards the low to medium total no. of passengers and small number of observations with high total no. of passengers. \n",
    "\n",
    "Passenger-in and passenger-out graphs have its peak with the count 30 and approximately 30 respectively in between 250000 and 500000 number of total passengers inbounds. However, for passenger_out we can see a distinguishable second and a third peak suggesting there are cluster of month-year where about 500000-750000 and 750000-1000000 respective number of passengers out bounded from Australia.\n",
    "\n",
    "In histograms outliers are the observations that lie separately from the overall pattern. For Monthly passenger_in graph there is one probable outlier on the right which has the value of about 1850000 total number of passengers inbound. \n",
    "While in Passenger_out histogram we see two probable outliers around 1700000 and one which is about 1800000 total number of passengers.\n",
    "\n"
   ]
  },
  {
   "cell_type": "markdown",
   "metadata": {},
   "source": [
    "#### 2. Use boxplots to visualise the information of question 1.1. How many outliers can you see in the plots? Use the IQR rule to show the data points which are considered as outliers of monthly Passengers_In and monthly Passengers_Out)\n",
    "\n"
   ]
  },
  {
   "cell_type": "code",
   "execution_count": 307,
   "metadata": {},
   "outputs": [
    {
     "data": {
      "text/plain": [
       "Text(0.5, 1.0, 'Boxplot of Total no. of Monthly Passengers In and Out')"
      ]
     },
     "execution_count": 307,
     "metadata": {},
     "output_type": "execute_result"
    },
    {
     "data": {
      "image/png": "[encoded data removed]",
      "text/plain": [
       "<Figure size 432x288 with 1 Axes>"
      ]
     },
     "metadata": {
      "needs_background": "light"
     },
     "output_type": "display_data"
    }
   ],
   "source": [
    "boxplot = sub_AP_mtv.boxplot(column=['Passengers_In','Passengers_Out'])\n",
    "\n",
    "plt.ylabel('Passenger Count')\n",
    "plt.xlabel('Passenger Type')\n",
    "plt.title(\"Boxplot of Total no. of Monthly Passengers In and Out\")"
   ]
  },
  {
   "cell_type": "markdown",
   "metadata": {},
   "source": [
    "From the boxplot we can see that the Passenger_In and Passenger_Out each have one outliner. The following codes determine the datapoints that are considered to be outliers of the monthly Passenger_in and monthly Passengers_Out.\n",
    "\n",
    "#### For monthly Passenger_in: "
   ]
  },
  {
   "cell_type": "code",
   "execution_count": 308,
   "metadata": {},
   "outputs": [
    {
     "data": {
      "text/plain": [
       "586532.0"
      ]
     },
     "execution_count": 308,
     "metadata": {},
     "output_type": "execute_result"
    }
   ],
   "source": [
    "#finding the vlaue of the interquartile range\n",
    "Q1 = np.percentile(sub_AP_mtv['Passengers_In'], 25)\n",
    "Q3= np.percentile(sub_AP_mtv['Passengers_In'], 75)\n",
    "IQR = Q3-Q1\n",
    "IQR "
   ]
  },
  {
   "cell_type": "code",
   "execution_count": 309,
   "metadata": {},
   "outputs": [
    {
     "data": {
      "text/plain": [
       "-471864.0"
      ]
     },
     "execution_count": 309,
     "metadata": {},
     "output_type": "execute_result"
    }
   ],
   "source": [
    "lower_boundary = Q1- (1.5*IQR) \n",
    "lower_boundary"
   ]
  },
  {
   "cell_type": "markdown",
   "metadata": {},
   "source": [
    "Looking at the boxpolt we see that there are no outliners as non of the observations are less than the lower boundary."
   ]
  },
  {
   "cell_type": "code",
   "execution_count": 310,
   "metadata": {},
   "outputs": [
    {
     "data": {
      "text/plain": [
       "1874264.0"
      ]
     },
     "execution_count": 310,
     "metadata": {},
     "output_type": "execute_result"
    }
   ],
   "source": [
    "upper_boundary = Q3 + (1.5*IQR)\n",
    "upper_boundary"
   ]
  },
  {
   "cell_type": "code",
   "execution_count": 311,
   "metadata": {},
   "outputs": [
    {
     "data": {
      "text/html": [
       "<div>\n",
       "<style scoped>\n",
       "    .dataframe tbody tr th:only-of-type {\n",
       "        vertical-align: middle;\n",
       "    }\n",
       "\n",
       "    .dataframe tbody tr th {\n",
       "        vertical-align: top;\n",
       "    }\n",
       "\n",
       "    .dataframe thead th {\n",
       "        text-align: right;\n",
       "    }\n",
       "</style>\n",
       "<table border=\"1\" class=\"dataframe\">\n",
       "  <thead>\n",
       "    <tr style=\"text-align: right;\">\n",
       "      <th></th>\n",
       "      <th>Month</th>\n",
       "      <th>Passengers_In</th>\n",
       "      <th>Passengers_Out</th>\n",
       "    </tr>\n",
       "  </thead>\n",
       "  <tbody>\n",
       "    <tr>\n",
       "      <th>372</th>\n",
       "      <td>42370</td>\n",
       "      <td>1918279</td>\n",
       "      <td>1642059</td>\n",
       "    </tr>\n",
       "  </tbody>\n",
       "</table>\n",
       "</div>"
      ],
      "text/plain": [
       "     Month  Passengers_In  Passengers_Out\n",
       "372  42370        1918279         1642059"
      ]
     },
     "execution_count": 311,
     "metadata": {},
     "output_type": "execute_result"
    }
   ],
   "source": [
    "pass_in_outliers = sub_AP_mtv[sub_AP_mtv['Passengers_In']> upper_boundary]\n",
    "pass_in_outliers"
   ]
  },
  {
   "cell_type": "markdown",
   "metadata": {},
   "source": [
    "The above row is the datapoint considered to be the outliner for monthly Passenger_in according to the IQR rule \n",
    "\n",
    "#### For monthly Passenger_out:"
   ]
  },
  {
   "cell_type": "code",
   "execution_count": 312,
   "metadata": {},
   "outputs": [
    {
     "data": {
      "text/plain": [
       "572214.0"
      ]
     },
     "execution_count": 312,
     "metadata": {},
     "output_type": "execute_result"
    }
   ],
   "source": [
    "Q1 = np.percentile(sub_AP_mtv['Passengers_Out'], 25)\n",
    "Q3= np.percentile(sub_AP_mtv['Passengers_Out'], 75)\n",
    "IQR = Q3-Q1\n",
    "IQR "
   ]
  },
  {
   "cell_type": "code",
   "execution_count": 313,
   "metadata": {},
   "outputs": [
    {
     "data": {
      "text/plain": [
       "-454615.0"
      ]
     },
     "execution_count": 313,
     "metadata": {},
     "output_type": "execute_result"
    }
   ],
   "source": [
    "lower_boundary = Q1- (1.5*IQR) \n",
    "lower_boundary"
   ]
  },
  {
   "cell_type": "markdown",
   "metadata": {},
   "source": [
    "Likewise, for passenger_out as well we see that there are no outlier in the lower end. "
   ]
  },
  {
   "cell_type": "code",
   "execution_count": 314,
   "metadata": {},
   "outputs": [
    {
     "data": {
      "text/plain": [
       "1834241.0"
      ]
     },
     "execution_count": 314,
     "metadata": {},
     "output_type": "execute_result"
    }
   ],
   "source": [
    "upper_boundary = Q3 + (1.5*IQR)\n",
    "upper_boundary"
   ]
  },
  {
   "cell_type": "code",
   "execution_count": 315,
   "metadata": {},
   "outputs": [
    {
     "data": {
      "text/html": [
       "<div>\n",
       "<style scoped>\n",
       "    .dataframe tbody tr th:only-of-type {\n",
       "        vertical-align: middle;\n",
       "    }\n",
       "\n",
       "    .dataframe tbody tr th {\n",
       "        vertical-align: top;\n",
       "    }\n",
       "\n",
       "    .dataframe thead th {\n",
       "        text-align: right;\n",
       "    }\n",
       "</style>\n",
       "<table border=\"1\" class=\"dataframe\">\n",
       "  <thead>\n",
       "    <tr style=\"text-align: right;\">\n",
       "      <th></th>\n",
       "      <th>Month</th>\n",
       "      <th>Passengers_In</th>\n",
       "      <th>Passengers_Out</th>\n",
       "    </tr>\n",
       "  </thead>\n",
       "  <tbody>\n",
       "    <tr>\n",
       "      <th>371</th>\n",
       "      <td>42339</td>\n",
       "      <td>1580055</td>\n",
       "      <td>1847744</td>\n",
       "    </tr>\n",
       "  </tbody>\n",
       "</table>\n",
       "</div>"
      ],
      "text/plain": [
       "     Month  Passengers_In  Passengers_Out\n",
       "371  42339        1580055         1847744"
      ]
     },
     "execution_count": 315,
     "metadata": {},
     "output_type": "execute_result"
    }
   ],
   "source": [
    "pass_out_outliers = sub_AP_mtv[sub_AP_mtv['Passengers_Out']> upper_boundary]\n",
    "pass_out_outliers"
   ]
  },
  {
   "cell_type": "markdown",
   "metadata": {},
   "source": [
    "The above row is the datapoint considered to be the outliner for monthly Passenger_out according to the IQR rule. \n"
   ]
  },
  {
   "cell_type": "markdown",
   "metadata": {},
   "source": [
    "#### 3. As you can see in question 1.2, the information which is provided by a boxplot is so similar to the information which we saw in the output of the function “describe()”. However, they are not the same. What are the differences between the information which are shown in a box plot and the output of function “describe()”?"
   ]
  },
  {
   "cell_type": "code",
   "execution_count": 316,
   "metadata": {},
   "outputs": [
    {
     "data": {
      "text/html": [
       "<div>\n",
       "<style scoped>\n",
       "    .dataframe tbody tr th:only-of-type {\n",
       "        vertical-align: middle;\n",
       "    }\n",
       "\n",
       "    .dataframe tbody tr th {\n",
       "        vertical-align: top;\n",
       "    }\n",
       "\n",
       "    .dataframe thead th {\n",
       "        text-align: right;\n",
       "    }\n",
       "</style>\n",
       "<table border=\"1\" class=\"dataframe\">\n",
       "  <thead>\n",
       "    <tr style=\"text-align: right;\">\n",
       "      <th></th>\n",
       "      <th>Month</th>\n",
       "      <th>Passengers_In</th>\n",
       "      <th>Passengers_Out</th>\n",
       "    </tr>\n",
       "  </thead>\n",
       "  <tbody>\n",
       "    <tr>\n",
       "      <th>count</th>\n",
       "      <td>377.000000</td>\n",
       "      <td>3.770000e+02</td>\n",
       "      <td>3.770000e+02</td>\n",
       "    </tr>\n",
       "    <tr>\n",
       "      <th>mean</th>\n",
       "      <td>36769.169761</td>\n",
       "      <td>7.317297e+05</td>\n",
       "      <td>7.210568e+05</td>\n",
       "    </tr>\n",
       "    <tr>\n",
       "      <th>std</th>\n",
       "      <td>3316.906490</td>\n",
       "      <td>3.759759e+05</td>\n",
       "      <td>3.673378e+05</td>\n",
       "    </tr>\n",
       "    <tr>\n",
       "      <th>min</th>\n",
       "      <td>31048.000000</td>\n",
       "      <td>1.826730e+05</td>\n",
       "      <td>1.783190e+05</td>\n",
       "    </tr>\n",
       "    <tr>\n",
       "      <th>25%</th>\n",
       "      <td>33909.000000</td>\n",
       "      <td>4.079340e+05</td>\n",
       "      <td>4.037060e+05</td>\n",
       "    </tr>\n",
       "    <tr>\n",
       "      <th>50%</th>\n",
       "      <td>36770.000000</td>\n",
       "      <td>6.662590e+05</td>\n",
       "      <td>6.561840e+05</td>\n",
       "    </tr>\n",
       "    <tr>\n",
       "      <th>75%</th>\n",
       "      <td>39630.000000</td>\n",
       "      <td>9.944660e+05</td>\n",
       "      <td>9.759200e+05</td>\n",
       "    </tr>\n",
       "    <tr>\n",
       "      <th>max</th>\n",
       "      <td>42491.000000</td>\n",
       "      <td>1.918279e+06</td>\n",
       "      <td>1.847744e+06</td>\n",
       "    </tr>\n",
       "  </tbody>\n",
       "</table>\n",
       "</div>"
      ],
      "text/plain": [
       "              Month  Passengers_In  Passengers_Out\n",
       "count    377.000000   3.770000e+02    3.770000e+02\n",
       "mean   36769.169761   7.317297e+05    7.210568e+05\n",
       "std     3316.906490   3.759759e+05    3.673378e+05\n",
       "min    31048.000000   1.826730e+05    1.783190e+05\n",
       "25%    33909.000000   4.079340e+05    4.037060e+05\n",
       "50%    36770.000000   6.662590e+05    6.561840e+05\n",
       "75%    39630.000000   9.944660e+05    9.759200e+05\n",
       "max    42491.000000   1.918279e+06    1.847744e+06"
      ]
     },
     "execution_count": 316,
     "metadata": {},
     "output_type": "execute_result"
    }
   ],
   "source": [
    "sub_AP_mtv.describe()"
   ]
  },
  {
   "cell_type": "code",
   "execution_count": 317,
   "metadata": {
    "scrolled": true
   },
   "outputs": [
    {
     "data": {
      "text/plain": [
       "Text(0.5, 1.0, 'Boxplot of Total no. of Monthly Passengers In and Out')"
      ]
     },
     "execution_count": 317,
     "metadata": {},
     "output_type": "execute_result"
    },
    {
     "data": {
      "image/png": "[encoded data removed]",
      "text/plain": [
       "<Figure size 432x288 with 1 Axes>"
      ]
     },
     "metadata": {
      "needs_background": "light"
     },
     "output_type": "display_data"
    }
   ],
   "source": [
    "boxplot = sub_AP_mtv.boxplot(column=['Passengers_In','Passengers_Out'])\n",
    "\n",
    "plt.ylabel('Passenger Count')\n",
    "plt.xlabel('Passenger Type')\n",
    "plt.title(\"Boxplot of Total no. of Monthly Passengers In and Out\")"
   ]
  },
  {
   "cell_type": "markdown",
   "metadata": {},
   "source": [
    "By using the describe() function we can gain information of the number of records in the dataset from count, the standard deviation and the mean of the data which cannot be visualized from the boxplot. While both the describe() function and the boxplot show the first quartile, second, third and max and min values of the dataset. \n",
    "\n",
    "The boxplot also display's the outliers of the dataset which cannot be determined directly from the describe() function. The ends of the whiskers (i.e. maximum and minimum score) when there are outliers presented in the data represent the lower and upper boundaries for the data that is considered to be acceptable in range, while the describe() function just displays the maximum and minimum values without considering if those values are outliers or not.\n",
    "\n",
    "The boxplot allows us to visualize the spread and the skewness of the data which cannot be interpreted straight from the describe function().The above boxplot shows a longer upper whisker which suggest the data are positively skewed and there are more variations for data beyond the 3rd quartile for both passengers in and out. likewise, the boxplot visualization can be used to compare the spread of data between different samples which cannot be done directly from the describe() table, we would need to do further calculations. For instance, the boxplot above we can observe that the spread of passenger_in is slightly more than the passenger_out.\n"
   ]
  },
  {
   "cell_type": "markdown",
   "metadata": {},
   "source": [
    "### Part C - Clustering task\n",
    "Use the dataset ‘ClusteringData.csv’ to cluster the dataset using KMeans. Try different values\n",
    "of K and visualise your clusters. \n",
    "\n"
   ]
  },
  {
   "cell_type": "code",
   "execution_count": 318,
   "metadata": {},
   "outputs": [],
   "source": [
    "from sklearn.cluster import KMeans"
   ]
  },
  {
   "cell_type": "code",
   "execution_count": 319,
   "metadata": {},
   "outputs": [],
   "source": [
    "cluster_d = pd.read_csv('ClusteringData.csv')"
   ]
  },
  {
   "cell_type": "code",
   "execution_count": 320,
   "metadata": {},
   "outputs": [
    {
     "data": {
      "text/html": [
       "<div>\n",
       "<style scoped>\n",
       "    .dataframe tbody tr th:only-of-type {\n",
       "        vertical-align: middle;\n",
       "    }\n",
       "\n",
       "    .dataframe tbody tr th {\n",
       "        vertical-align: top;\n",
       "    }\n",
       "\n",
       "    .dataframe thead th {\n",
       "        text-align: right;\n",
       "    }\n",
       "</style>\n",
       "<table border=\"1\" class=\"dataframe\">\n",
       "  <thead>\n",
       "    <tr style=\"text-align: right;\">\n",
       "      <th></th>\n",
       "      <th>GDP per Capita</th>\n",
       "      <th>Suicide Rate</th>\n",
       "    </tr>\n",
       "  </thead>\n",
       "  <tbody>\n",
       "    <tr>\n",
       "      <th>0</th>\n",
       "      <td>1.44178</td>\n",
       "      <td>0.44453</td>\n",
       "    </tr>\n",
       "    <tr>\n",
       "      <th>1</th>\n",
       "      <td>1.52733</td>\n",
       "      <td>0.41203</td>\n",
       "    </tr>\n",
       "    <tr>\n",
       "      <th>2</th>\n",
       "      <td>1.42666</td>\n",
       "      <td>0.14975</td>\n",
       "    </tr>\n",
       "    <tr>\n",
       "      <th>3</th>\n",
       "      <td>1.57744</td>\n",
       "      <td>0.35776</td>\n",
       "    </tr>\n",
       "    <tr>\n",
       "      <th>4</th>\n",
       "      <td>1.40598</td>\n",
       "      <td>0.41004</td>\n",
       "    </tr>\n",
       "  </tbody>\n",
       "</table>\n",
       "</div>"
      ],
      "text/plain": [
       "   GDP per Capita  Suicide Rate\n",
       "0         1.44178       0.44453\n",
       "1         1.52733       0.41203\n",
       "2         1.42666       0.14975\n",
       "3         1.57744       0.35776\n",
       "4         1.40598       0.41004"
      ]
     },
     "execution_count": 320,
     "metadata": {},
     "output_type": "execute_result"
    }
   ],
   "source": [
    "cluster_d.head()"
   ]
  },
  {
   "cell_type": "code",
   "execution_count": 321,
   "metadata": {},
   "outputs": [
    {
     "data": {
      "text/plain": [
       "(157, 2)"
      ]
     },
     "execution_count": 321,
     "metadata": {},
     "output_type": "execute_result"
    }
   ],
   "source": [
    "cluster_d.shape"
   ]
  },
  {
   "cell_type": "code",
   "execution_count": 332,
   "metadata": {},
   "outputs": [
    {
     "data": {
      "text/plain": [
       "Text(0.5, 1.0, 'Sucide Rate vs GDP per Capita')"
      ]
     },
     "execution_count": 332,
     "metadata": {},
     "output_type": "execute_result"
    },
    {
     "data": {
      "image/png": "[encoded data removed]",
      "text/plain": [
       "<Figure size 432x288 with 1 Axes>"
      ]
     },
     "metadata": {
      "needs_background": "light"
     },
     "output_type": "display_data"
    }
   ],
   "source": [
    "#Visualising the dataset (GDP per Capita vs Sucide Rate)\n",
    "\n",
    "plt.scatter(x=cluster_d['GDP per Capita'],y=cluster_d['Suicide Rate'])\n",
    "plt.xlabel('GDP per Capita')\n",
    "plt.ylabel('Suicide Rate')\n",
    "plt.title('Sucide Rate vs GDP per Capita')"
   ]
  },
  {
   "cell_type": "code",
   "execution_count": 323,
   "metadata": {},
   "outputs": [],
   "source": [
    "# checking for 2 clusters \n",
    "kmeans = KMeans(n_clusters=2).fit(cluster_d[['GDP per Capita','Suicide Rate']])"
   ]
  },
  {
   "cell_type": "markdown",
   "metadata": {},
   "source": [
    "Exploring data with different k vlaues:"
   ]
  },
  {
   "cell_type": "code",
   "execution_count": 337,
   "metadata": {},
   "outputs": [
    {
     "data": {
      "image/png": "[encoded data removed]",
      "text/plain": [
       "<Figure size 432x288 with 1 Axes>"
      ]
     },
     "metadata": {
      "needs_background": "light"
     },
     "output_type": "display_data"
    }
   ],
   "source": [
    "# Visualise the output labels\n",
    "plt.scatter(x=cluster_d['GDP per Capita'],y=cluster_d['Suicide Rate'], c=kmeans.labels_)\n",
    "\n",
    "# Visualising the cluster centers using black stars\n",
    "plt.plot(kmeans.cluster_centers_[:,0],kmeans.cluster_centers_[:,1],'k*',markersize=20)\n",
    "plt.xlabel('GDP per Capita')\n",
    "plt.ylabel('Suicide Rate')\n",
    "plt.title('Sucide Rate vs GDP per Capita')\n",
    "plt.show()"
   ]
  },
  {
   "cell_type": "code",
   "execution_count": 336,
   "metadata": {},
   "outputs": [
    {
     "data": {
      "image/png": "[encoded data removed]",
      "text/plain": [
       "<Figure size 432x288 with 1 Axes>"
      ]
     },
     "metadata": {
      "needs_background": "light"
     },
     "output_type": "display_data"
    }
   ],
   "source": [
    "#setting K-Means 3 \n",
    "kmeans1 = KMeans(n_clusters=3).fit(cluster_d[['GDP per Capita','Suicide Rate']])\n",
    "plt.scatter(x=cluster_d['GDP per Capita'],y=cluster_d['Suicide Rate'], c=kmeans1.labels_)\n",
    "\n",
    "# Visualising the cluster centers using black stars\n",
    "plt.plot(kmeans1.cluster_centers_[:,0],kmeans1.cluster_centers_[:,1],'k*',markersize=20)\n",
    "plt.xlabel('GDP per Capita')\n",
    "plt.ylabel('Suicide Rate')\n",
    "plt.title('Sucide Rate vs GDP per Capita')\n",
    "plt.show()"
   ]
  },
  {
   "cell_type": "code",
   "execution_count": 335,
   "metadata": {},
   "outputs": [
    {
     "data": {
      "image/png": "[encoded data removed]",
      "text/plain": [
       "<Figure size 432x288 with 1 Axes>"
      ]
     },
     "metadata": {
      "needs_background": "light"
     },
     "output_type": "display_data"
    }
   ],
   "source": [
    "#setting K-Means 4\n",
    "kmeans2 = KMeans(n_clusters=4).fit(cluster_d[['GDP per Capita','Suicide Rate']])\n",
    "plt.scatter(x=cluster_d['GDP per Capita'],y=cluster_d['Suicide Rate'], c=kmeans2.labels_)\n",
    "\n",
    "# Visualising the cluster centers using black stars\n",
    "plt.plot(kmeans2.cluster_centers_[:,0],kmeans2.cluster_centers_[:,1],'k*',markersize=20)\n",
    "plt.xlabel('GDP per Capita')\n",
    "plt.ylabel('Suicide Rate')\n",
    "plt.title('Sucide Rate vs GDP per Capita')\n",
    "plt.show()"
   ]
  },
  {
   "cell_type": "code",
   "execution_count": 334,
   "metadata": {},
   "outputs": [
    {
     "data": {
      "image/png": "[encoded data removed]",
      "text/plain": [
       "<Figure size 432x288 with 1 Axes>"
      ]
     },
     "metadata": {
      "needs_background": "light"
     },
     "output_type": "display_data"
    }
   ],
   "source": [
    "#setting K-Means 5\n",
    "kmeans3 = KMeans(n_clusters=5).fit(cluster_d[['GDP per Capita','Suicide Rate']])\n",
    "plt.scatter(x=cluster_d['GDP per Capita'],y=cluster_d['Suicide Rate'], c=kmeans3.labels_)\n",
    "\n",
    "# Visualising the cluster centers using black stars\n",
    "plt.plot(kmeans3.cluster_centers_[:,0],kmeans3.cluster_centers_[:,1],'k*',markersize=20)\n",
    "plt.xlabel('GDP per Capita')\n",
    "plt.ylabel('Suicide Rate')\n",
    "plt.title('Sucide Rate vs GDP per Capita')\n",
    "plt.show()"
   ]
  },
  {
   "cell_type": "code",
   "execution_count": 333,
   "metadata": {},
   "outputs": [
    {
     "data": {
      "image/png": "[encoded data removed]",
      "text/plain": [
       "<Figure size 432x288 with 1 Axes>"
      ]
     },
     "metadata": {
      "needs_background": "light"
     },
     "output_type": "display_data"
    }
   ],
   "source": [
    "#setting K-Means 6\n",
    "kmeans4 = KMeans(n_clusters=6).fit(cluster_d[['GDP per Capita','Suicide Rate']])\n",
    "plt.scatter(x=cluster_d['GDP per Capita'],y=cluster_d['Suicide Rate'], c=kmeans4.labels_)\n",
    "\n",
    "# Visualising the cluster centers using black stars\n",
    "plt.plot(kmeans4.cluster_centers_[:,0],kmeans4.cluster_centers_[:,1],'k*',markersize=20)\n",
    "plt.xlabel('GDP per Capita')\n",
    "plt.title('Sucide Rate vs GDP per Capita')\n",
    "plt.ylabel('Suicide Rate')\n",
    "plt.show()"
   ]
  },
  {
   "cell_type": "code",
   "execution_count": 329,
   "metadata": {},
   "outputs": [
    {
     "data": {
      "text/html": [
       "<div>\n",
       "<style scoped>\n",
       "    .dataframe tbody tr th:only-of-type {\n",
       "        vertical-align: middle;\n",
       "    }\n",
       "\n",
       "    .dataframe tbody tr th {\n",
       "        vertical-align: top;\n",
       "    }\n",
       "\n",
       "    .dataframe thead th {\n",
       "        text-align: right;\n",
       "    }\n",
       "</style>\n",
       "<table border=\"1\" class=\"dataframe\">\n",
       "  <thead>\n",
       "    <tr style=\"text-align: right;\">\n",
       "      <th></th>\n",
       "      <th>GDP per Capita</th>\n",
       "      <th>Suicide Rate</th>\n",
       "    </tr>\n",
       "  </thead>\n",
       "  <tbody>\n",
       "    <tr>\n",
       "      <th>count</th>\n",
       "      <td>157.000000</td>\n",
       "      <td>157.000000</td>\n",
       "    </tr>\n",
       "    <tr>\n",
       "      <th>mean</th>\n",
       "      <td>0.953880</td>\n",
       "      <td>0.137624</td>\n",
       "    </tr>\n",
       "    <tr>\n",
       "      <th>std</th>\n",
       "      <td>0.412595</td>\n",
       "      <td>0.111038</td>\n",
       "    </tr>\n",
       "    <tr>\n",
       "      <th>min</th>\n",
       "      <td>0.000000</td>\n",
       "      <td>0.000000</td>\n",
       "    </tr>\n",
       "    <tr>\n",
       "      <th>25%</th>\n",
       "      <td>0.670240</td>\n",
       "      <td>0.061260</td>\n",
       "    </tr>\n",
       "    <tr>\n",
       "      <th>50%</th>\n",
       "      <td>1.027800</td>\n",
       "      <td>0.105470</td>\n",
       "    </tr>\n",
       "    <tr>\n",
       "      <th>75%</th>\n",
       "      <td>1.279640</td>\n",
       "      <td>0.175540</td>\n",
       "    </tr>\n",
       "    <tr>\n",
       "      <th>max</th>\n",
       "      <td>1.824270</td>\n",
       "      <td>0.505210</td>\n",
       "    </tr>\n",
       "  </tbody>\n",
       "</table>\n",
       "</div>"
      ],
      "text/plain": [
       "       GDP per Capita  Suicide Rate\n",
       "count      157.000000    157.000000\n",
       "mean         0.953880      0.137624\n",
       "std          0.412595      0.111038\n",
       "min          0.000000      0.000000\n",
       "25%          0.670240      0.061260\n",
       "50%          1.027800      0.105470\n",
       "75%          1.279640      0.175540\n",
       "max          1.824270      0.505210"
      ]
     },
     "execution_count": 329,
     "metadata": {},
     "output_type": "execute_result"
    }
   ],
   "source": [
    "#to view the avg value of GDP \n",
    "cluster_d.describe()"
   ]
  },
  {
   "cell_type": "markdown",
   "metadata": {},
   "source": [
    "#### What is the best value of K based on your visualisation? Why do you think it is the best value for K? Describe the clusters which you see in your visualisation for the best value of K."
   ]
  },
  {
   "cell_type": "markdown",
   "metadata": {},
   "source": [
    "After viewing the clusters for different values of K, I found 2 to be the best value of K. For each graph developed we can see that the clusters are being divided horizontally (horizontal spread) according to the GDP per Capita. For more than 2 clusters the criteria by which the clusters are being split isn't explicit/clear. While for 2 clusters, looking at the mean value (i.e. 0.954) of GDP per capita from the above describe function we see that the clusters are split approximately around the average GDP per Capita value. Therefore, we can describe the cluster to the left as suicide rates for lower GDP per capita and the cluster to the right as cluster of suicide rates for higher GDP by considering GDP per capita lesser than average as low GDP per capita and GDP per capita as high GDP per capita. \n",
    "\n",
    "We can see that both clusters are pretty spread out. Nonetheless, we see more variations in the rate of suicide for cluster with higher GDP per capita. For low GDP per capita cluster, most of the data points the suicide rate is less than 0.2 and few data points greater than 0.2. The highest datapoint for this cluster has a suicide rate greater than 0.5, which is higher than the highest point in higher GDP per capita cluster.  For higher GDP per capita cluster, we see a gradual increase in the suicide rate as the GDP per capita increases approximately from GDP per capita of 1.25.  \n",
    " "
   ]
  },
  {
   "cell_type": "markdown",
   "metadata": {},
   "source": [
    "### Challenge1:\n",
    "An important challenge in KMeans is about how to evaluate the quality of clusters. As there is\n",
    "no dependent variable for clustering models, we cannot check the accuracy or error of our\n",
    "model and we need other approaches to check the quality of the models. There are many other\n",
    "metrics/approaches which you can use to evaluate the performance of a clustering model;\n",
    "Silhouette score is one of them.\n",
    "#### 1. Explain how the Silhouette score works and what is the meaning of having the following results as a Silhouette score?\n",
    "https://en.wikipedia.org/wiki/Silhouette_(clustering)#:~:text=The%20silhouette%20value%20is%20a,poorly%20matched%20to%20neighboring%20clusters. \n",
    "\n",
    "The silhouette score measures how similar a data is to its  own cluster in comparison to the other clusters. It is a measure of how similar an object is to its own cluster (cohesion) compared to other clusters (separation). In order to calculate the silhouette score for each data point we need to measure cohesion and seperation. Cohesion is the \"mean distance between the observations and all the other data points in the same cluster\" and seperation is the \"mean distance between the observation and all other data points of the next nearest cluster\". \n",
    "\n",
    "It ranges from -1 to +1, where values close to +1 indicate that data matches well to its own cluster and values close to -1 means that the data is assigned to the wrong cluster.\n",
    "\n",
    "- 1.1. Silhouette Score is 0.02\n",
    "\n",
    "The Silhouette Score of -0.02 is  is very much close to 0 which suggests that the sample is indifferent or that the sample is very close to the  decision boundary separating two neighboring clusters.\n",
    "- 1.2. Silhouette Score is -0.06\n",
    "\n",
    "Likewise, the Silhouette Score of -0.06 is very much close to 0 which suggests that the sample is indifferent or that the sample is very close to the decision boundary separating two neighboring clusters.\n",
    "\n",
    "- 1.3. Silhouette Score is 0.97\n",
    "\n",
    "The Silhouette Score of 0.97 is approximately equal to 1 therefore, this indicates that the data matches well with its own cluster and poorly with the neighbouring cluster, therefore it belongs to the cluster.\n",
    "\n",
    "- 1.4. Silhouette score is -0.9\n",
    "\n",
    "The Silhouette Score of -0.9 is very close to -1 , therefore this indicates that the data matches poorly with the cluster it is assigned to therefore, doesnt belong to the cluster. \n"
   ]
  },
  {
   "cell_type": "markdown",
   "metadata": {},
   "source": [
    "#### 2. Implement Silhouette score in Sklearn and find out the best number of clusters (K) based on the silhouette score. "
   ]
  },
  {
   "cell_type": "code",
   "execution_count": 330,
   "metadata": {},
   "outputs": [],
   "source": [
    "from sklearn.metrics import silhouette_score\n"
   ]
  },
  {
   "cell_type": "markdown",
   "metadata": {},
   "source": [
    "https://stackoverflow.com/questions/51138686/how-to-use-silhouette-score-in-k-means-clustering-from-sklearn-library\n",
    "https://stackoverflow.com/questions/59919627/how-to-calculate-the-silhouette-score-for-each-cluster-separately-in-python"
   ]
  },
  {
   "cell_type": "code",
   "execution_count": 331,
   "metadata": {},
   "outputs": [
    {
     "name": "stdout",
     "output_type": "stream",
     "text": [
      "Number of clusters from 2 to 20: \n",
      " [2, 3, 4, 5, 6, 7, 8, 9, 10, 11, 12, 13, 14, 15, 16, 17, 18, 19, 20, 21, 22, 23, 24, 25, 26, 27, 28, 29, 30]\n",
      "For n_clusters = 2, silhouette score is 0.5627073439692872)\n",
      "For n_clusters = 3, silhouette score is 0.48907457426195083)\n",
      "For n_clusters = 4, silhouette score is 0.4859215570986203)\n",
      "For n_clusters = 5, silhouette score is 0.45314029528336797)\n",
      "For n_clusters = 6, silhouette score is 0.4314167501798706)\n",
      "For n_clusters = 7, silhouette score is 0.434885668315086)\n",
      "For n_clusters = 8, silhouette score is 0.4169017796725343)\n",
      "For n_clusters = 9, silhouette score is 0.42647702231346185)\n",
      "For n_clusters = 10, silhouette score is 0.4106977118946063)\n",
      "For n_clusters = 11, silhouette score is 0.39179769253944163)\n",
      "For n_clusters = 12, silhouette score is 0.3831372362295061)\n",
      "For n_clusters = 13, silhouette score is 0.37211930325175346)\n",
      "For n_clusters = 14, silhouette score is 0.3838071445185029)\n",
      "For n_clusters = 15, silhouette score is 0.38588523358005733)\n",
      "For n_clusters = 16, silhouette score is 0.39375946686919544)\n",
      "For n_clusters = 17, silhouette score is 0.3821044631586033)\n",
      "For n_clusters = 18, silhouette score is 0.38687603091688366)\n",
      "For n_clusters = 19, silhouette score is 0.380779062236204)\n",
      "For n_clusters = 20, silhouette score is 0.37677554274883485)\n",
      "For n_clusters = 21, silhouette score is 0.3653628021369464)\n",
      "For n_clusters = 22, silhouette score is 0.384467032975802)\n",
      "For n_clusters = 23, silhouette score is 0.37312053225982555)\n",
      "For n_clusters = 24, silhouette score is 0.37364708125715806)\n",
      "For n_clusters = 25, silhouette score is 0.3564838408748541)\n",
      "For n_clusters = 26, silhouette score is 0.3927368895517177)\n",
      "For n_clusters = 27, silhouette score is 0.366817564764583)\n",
      "For n_clusters = 28, silhouette score is 0.38475243275706933)\n",
      "For n_clusters = 29, silhouette score is 0.37218640840877276)\n",
      "For n_clusters = 30, silhouette score is 0.3807584231996713)\n"
     ]
    }
   ],
   "source": [
    "#Use silhouette score\n",
    "#array of clusters\n",
    "range_n_clusters = [2,3,4,5,6,7,8,9,10,11,12,\n",
    "                    13,14,15,16,17,18,19,20,\n",
    "                    21,22,23,24,25,26,27,28,29,30]\n",
    "print (\"Number of clusters from 2 to 20: \\n\",\n",
    "       range_n_clusters)\n",
    "#loop through range_n_clusters and give a silhouette score for each value in the array \n",
    "for n_clusters in range_n_clusters:\n",
    "    clusterer = KMeans(n_clusters=n_clusters)\n",
    "    preds = clusterer.fit_predict(cluster_d)\n",
    "    centers = clusterer.cluster_centers_\n",
    "\n",
    "    score = silhouette_score(cluster_d, preds)\n",
    "    print(\"For n_clusters = {}, silhouette score is {})\".format(n_clusters, score))\n",
    "    "
   ]
  },
  {
   "cell_type": "markdown",
   "metadata": {},
   "source": [
    "The best number of clustee (K) is 2 with a silhouette score of 0.563. "
   ]
  },
  {
   "cell_type": "markdown",
   "metadata": {},
   "source": [
    "### Challenge 2:\n",
    "\n",
    "#### 1. What is the transformation which you used?\n",
    "\n",
    "In the above graph by looking at the x and y axis we can say that the transformation used is squaring the variables of the independent and dependent columns. \n",
    "\n",
    "#### 2. Do you think your decision to transform the data with that transformation is a good idea? Discuss your answer. \n",
    "\n",
    "*When are data transformed ?*\n",
    "\n",
    "Squaring data of the independent and dependent variables do not reflect the trend in the actual dataset. By doing this transformation we're saying that when there is an increase in the independent variable there is a decrease in the dependent variable. In other words, they are negatively proportional. When it isn't the case. Here, the data seems to be transformed to fit a linear model however, the looking at the original scatter plot we see that the variables do not have a linear relationship as each value in the x-axis has two y values, therefore, I do not think the decision to transform the data with that transformation is a good idea. \n"
   ]
  }
 ],
 "metadata": {
  "kernelspec": {
   "display_name": "Python 3",
   "language": "python",
   "name": "python3"
  },
  "language_info": {
   "codemirror_mode": {
    "name": "ipython",
    "version": 3
   },
   "file_extension": ".py",
   "mimetype": "text/x-python",
   "name": "python",
   "nbconvert_exporter": "python",
   "pygments_lexer": "ipython3",
   "version": "3.8.3"
  }
 },
 "nbformat": 4,
 "nbformat_minor": 4
}
